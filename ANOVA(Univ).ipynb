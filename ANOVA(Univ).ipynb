{
 "cells": [
  {
   "cell_type": "code",
   "execution_count": 1,
   "metadata": {},
   "outputs": [
    {
     "name": "stderr",
     "output_type": "stream",
     "text": [
      "C:\\Users\\user\\anaconda3\\lib\\site-packages\\pandas\\core\\computation\\expressions.py:20: UserWarning: Pandas requires version '2.7.3' or newer of 'numexpr' (version '2.7.1' currently installed).\n",
      "  from pandas.core.computation.check import NUMEXPR_INSTALLED\n"
     ]
    }
   ],
   "source": [
    "import os\n",
    "import pandas as pd\n",
    "import numpy as np\n",
    "\n",
    "os.chdir(\"C:/Users/user/stats\")\n"
   ]
  },
  {
   "cell_type": "markdown",
   "metadata": {},
   "source": [
    "# times , cwur, shanghai\n",
    "\n",
    "+ California Institute of Technology , Imperial College London\t두 학교가 times에서는 상위였지만 cwur에서 상대적으로 낮은 순위로 평가됨"
   ]
  },
  {
   "cell_type": "code",
   "execution_count": 24,
   "metadata": {
    "scrolled": true
   },
   "outputs": [],
   "source": [
    "times = pd.read_excel(\"times_final_withCountry.xlsx\")\n",
    "cwur  = pd.read_csv(\"cwur_final_withCountry.csv\")\n",
    "shanghai  = pd.read_csv(\"shanghai_final_withCountry.csv\")"
   ]
  },
  {
   "cell_type": "markdown",
   "metadata": {},
   "source": [
    "### YEAR 2014"
   ]
  },
  {
   "cell_type": "code",
   "execution_count": 25,
   "metadata": {},
   "outputs": [
    {
     "data": {
      "text/plain": [
       "Index(['Unnamed: 0', 'world_rank', 'university_name', 'national_rank',\n",
       "       'total_score', 'alumni', 'award', 'hici', 'ns', 'pub', 'pcp', 'year',\n",
       "       'Country'],\n",
       "      dtype='object')"
      ]
     },
     "execution_count": 25,
     "metadata": {},
     "output_type": "execute_result"
    }
   ],
   "source": [
    "shanghai.columns"
   ]
  },
  {
   "cell_type": "code",
   "execution_count": 26,
   "metadata": {},
   "outputs": [
    {
     "data": {
      "text/plain": [
       "array(['USA', 'UK', 'Japan', 'Switzerland', 'Canada', 'France', 'Sweden',\n",
       "       'Denmark', 'Germany', 'Israel', 'Netherlands', 'Australia',\n",
       "       'Norway', 'Finland', 'Russia', 'Denmark ', 'Belgium', 'China',\n",
       "       'Singapore', 'SouthKorea', 'Italy', 'Brazil', 'Mexico',\n",
       "       'Hong Kong', 'NewZealand', 'Argentina', 'Austria', 'Spain',\n",
       "       'CzechRepublic', 'SaudiArabia', 'Ireland', 'SouthAfrica',\n",
       "       'Portugal', 'Hungary', 'India', 'Poland', 'Greece', 'Serbia',\n",
       "       'Malaysia', 'Australia ', 'Iran', 'Egypt', 'Chile', 'Turkey',\n",
       "       'Slovenia'], dtype=object)"
      ]
     },
     "execution_count": 26,
     "metadata": {},
     "output_type": "execute_result"
    }
   ],
   "source": [
    "shanghai['Country'].unique()"
   ]
  },
  {
   "cell_type": "code",
   "execution_count": 12,
   "metadata": {},
   "outputs": [
    {
     "data": {
      "text/html": [
       "<div>\n",
       "<style scoped>\n",
       "    .dataframe tbody tr th:only-of-type {\n",
       "        vertical-align: middle;\n",
       "    }\n",
       "\n",
       "    .dataframe tbody tr th {\n",
       "        vertical-align: top;\n",
       "    }\n",
       "\n",
       "    .dataframe thead th {\n",
       "        text-align: right;\n",
       "    }\n",
       "</style>\n",
       "<table border=\"1\" class=\"dataframe\">\n",
       "  <thead>\n",
       "    <tr style=\"text-align: right;\">\n",
       "      <th></th>\n",
       "      <th>times_world_rank</th>\n",
       "      <th>university_name</th>\n",
       "      <th>cwur_world_rank</th>\n",
       "      <th>shanghai_world_rank</th>\n",
       "    </tr>\n",
       "  </thead>\n",
       "  <tbody>\n",
       "    <tr>\n",
       "      <th>0</th>\n",
       "      <td>1</td>\n",
       "      <td>California Institute of Technology</td>\n",
       "      <td>12</td>\n",
       "      <td>7</td>\n",
       "    </tr>\n",
       "    <tr>\n",
       "      <th>1</th>\n",
       "      <td>2</td>\n",
       "      <td>Harvard University</td>\n",
       "      <td>1</td>\n",
       "      <td>1</td>\n",
       "    </tr>\n",
       "    <tr>\n",
       "      <th>2</th>\n",
       "      <td>2</td>\n",
       "      <td>University of Oxford</td>\n",
       "      <td>5</td>\n",
       "      <td>9</td>\n",
       "    </tr>\n",
       "    <tr>\n",
       "      <th>3</th>\n",
       "      <td>4</td>\n",
       "      <td>Stanford University</td>\n",
       "      <td>2</td>\n",
       "      <td>2</td>\n",
       "    </tr>\n",
       "    <tr>\n",
       "      <th>4</th>\n",
       "      <td>6</td>\n",
       "      <td>Princeton University</td>\n",
       "      <td>9</td>\n",
       "      <td>6</td>\n",
       "    </tr>\n",
       "    <tr>\n",
       "      <th>...</th>\n",
       "      <td>...</td>\n",
       "      <td>...</td>\n",
       "      <td>...</td>\n",
       "      <td>...</td>\n",
       "    </tr>\n",
       "    <tr>\n",
       "      <th>217</th>\n",
       "      <td>375</td>\n",
       "      <td>University of Porto</td>\n",
       "      <td>290</td>\n",
       "      <td>350</td>\n",
       "    </tr>\n",
       "    <tr>\n",
       "      <th>218</th>\n",
       "      <td>375</td>\n",
       "      <td>University of Surrey</td>\n",
       "      <td>499</td>\n",
       "      <td>450</td>\n",
       "    </tr>\n",
       "    <tr>\n",
       "      <th>219</th>\n",
       "      <td>375</td>\n",
       "      <td>University of Tasmania</td>\n",
       "      <td>608</td>\n",
       "      <td>350</td>\n",
       "    </tr>\n",
       "    <tr>\n",
       "      <th>220</th>\n",
       "      <td>375</td>\n",
       "      <td>University of Valencia</td>\n",
       "      <td>301</td>\n",
       "      <td>250</td>\n",
       "    </tr>\n",
       "    <tr>\n",
       "      <th>221</th>\n",
       "      <td>375</td>\n",
       "      <td>University of Wyoming</td>\n",
       "      <td>485</td>\n",
       "      <td>450</td>\n",
       "    </tr>\n",
       "  </tbody>\n",
       "</table>\n",
       "<p>222 rows × 4 columns</p>\n",
       "</div>"
      ],
      "text/plain": [
       "     times_world_rank                     university_name  cwur_world_rank  \\\n",
       "0                   1  California Institute of Technology               12   \n",
       "1                   2                  Harvard University                1   \n",
       "2                   2                University of Oxford                5   \n",
       "3                   4                 Stanford University                2   \n",
       "4                   6                Princeton University                9   \n",
       "..                ...                                 ...              ...   \n",
       "217               375                 University of Porto              290   \n",
       "218               375                University of Surrey              499   \n",
       "219               375              University of Tasmania              608   \n",
       "220               375              University of Valencia              301   \n",
       "221               375               University of Wyoming              485   \n",
       "\n",
       "     shanghai_world_rank  \n",
       "0                      7  \n",
       "1                      1  \n",
       "2                      9  \n",
       "3                      2  \n",
       "4                      6  \n",
       "..                   ...  \n",
       "217                  350  \n",
       "218                  450  \n",
       "219                  350  \n",
       "220                  250  \n",
       "221                  450  \n",
       "\n",
       "[222 rows x 4 columns]"
      ]
     },
     "execution_count": 12,
     "metadata": {},
     "output_type": "execute_result"
    }
   ],
   "source": [
    "times2014 = times[times['year'] == 2014]\n",
    "cwur2014 = cwur[cwur['year'] == 2014]\n",
    "shanghai2014 = shanghai[shanghai['year'] == 2014]\n",
    "\n",
    "\n",
    "\n",
    "tmp1 = times2014[[\"world_rank\",\"university_name\"]].rename(columns={\"world_rank\":\"times_world_rank\"})\n",
    "tmp2 = cwur2014[[\"world_rank\",\"institution\"]].rename(columns={\"world_rank\":\"cwur_world_rank\", \"institution\":\"university_name\"})\n",
    "tmp3 = shanghai2014[[\"world_rank\",\"university_name\"]].rename(columns={\"world_rank\":\"shanghai_world_rank\"})\n",
    "\n",
    "tmp4 = pd.merge(pd.merge(tmp1,tmp2),tmp3)\n",
    "tmp4"
   ]
  },
  {
   "cell_type": "code",
   "execution_count": 13,
   "metadata": {},
   "outputs": [],
   "source": [
    "x1 = tmp4['times_world_rank']\n",
    "x2 = tmp4['cwur_world_rank']\n",
    "x3 = tmp4['shanghai_world_rank']"
   ]
  },
  {
   "cell_type": "code",
   "execution_count": 14,
   "metadata": {},
   "outputs": [
    {
     "name": "stdout",
     "output_type": "stream",
     "text": [
      "BartlettResult(statistic=31.223433381197793, pvalue=1.6592720139393172e-07)\n",
      "FlignerResult(statistic=14.993091440667229, pvalue=0.0005549981817587236)\n",
      "LeveneResult(statistic=8.353800601185615, pvalue=0.00026118586510702246)\n"
     ]
    }
   ],
   "source": [
    "from scipy import stats\n",
    "# 등분산 검정 => 위배\n",
    "print(stats.bartlett(x1,x2,x3),stats.fligner(x1, x2, x3) ,stats.levene(x1, x2, x3), sep=\"\\n\")"
   ]
  },
  {
   "cell_type": "code",
   "execution_count": 15,
   "metadata": {},
   "outputs": [
    {
     "name": "stdout",
     "output_type": "stream",
     "text": [
      "KstestResult(statistic=0.17117117117117117, pvalue=0.002942038097590702)\n",
      "KstestResult(statistic=0.15765765765765766, pvalue=0.007943553257826162)\n",
      "KstestResult(statistic=0.13513513513513514, pvalue=0.03459175207474543)\n"
     ]
    }
   ],
   "source": [
    "#정규성 검정 => 위배\n",
    "print(stats.ks_2samp(x1, x2), stats.ks_2samp(x1, x3), stats.ks_2samp(x3, x2),  sep=\"\\n\")"
   ]
  },
  {
   "cell_type": "code",
   "execution_count": 17,
   "metadata": {},
   "outputs": [
    {
     "data": {
      "text/plain": [
       "KruskalResult(statistic=2.750608952972852, pvalue=0.25276262381166215)"
      ]
     },
     "execution_count": 17,
     "metadata": {},
     "output_type": "execute_result"
    }
   ],
   "source": [
    "#kruskal wallis 를 사용\n",
    "stats.kruskal(x1, x2, x3) # 차이없다"
   ]
  },
  {
   "cell_type": "markdown",
   "metadata": {},
   "source": [
    "### YEAR 2015"
   ]
  },
  {
   "cell_type": "code",
   "execution_count": 18,
   "metadata": {},
   "outputs": [
    {
     "data": {
      "text/html": [
       "<div>\n",
       "<style scoped>\n",
       "    .dataframe tbody tr th:only-of-type {\n",
       "        vertical-align: middle;\n",
       "    }\n",
       "\n",
       "    .dataframe tbody tr th {\n",
       "        vertical-align: top;\n",
       "    }\n",
       "\n",
       "    .dataframe thead th {\n",
       "        text-align: right;\n",
       "    }\n",
       "</style>\n",
       "<table border=\"1\" class=\"dataframe\">\n",
       "  <thead>\n",
       "    <tr style=\"text-align: right;\">\n",
       "      <th></th>\n",
       "      <th>times_world_rank</th>\n",
       "      <th>university_name</th>\n",
       "      <th>cwur_world_rank</th>\n",
       "      <th>shanghai_world_rank</th>\n",
       "    </tr>\n",
       "  </thead>\n",
       "  <tbody>\n",
       "    <tr>\n",
       "      <th>0</th>\n",
       "      <td>1</td>\n",
       "      <td>California Institute of Technology</td>\n",
       "      <td>12</td>\n",
       "      <td>7</td>\n",
       "    </tr>\n",
       "    <tr>\n",
       "      <th>1</th>\n",
       "      <td>2</td>\n",
       "      <td>Harvard University</td>\n",
       "      <td>1</td>\n",
       "      <td>1</td>\n",
       "    </tr>\n",
       "    <tr>\n",
       "      <th>2</th>\n",
       "      <td>3</td>\n",
       "      <td>University of Oxford</td>\n",
       "      <td>5</td>\n",
       "      <td>10</td>\n",
       "    </tr>\n",
       "    <tr>\n",
       "      <th>3</th>\n",
       "      <td>4</td>\n",
       "      <td>Stanford University</td>\n",
       "      <td>2</td>\n",
       "      <td>2</td>\n",
       "    </tr>\n",
       "    <tr>\n",
       "      <th>4</th>\n",
       "      <td>5</td>\n",
       "      <td>University of Cambridge</td>\n",
       "      <td>4</td>\n",
       "      <td>5</td>\n",
       "    </tr>\n",
       "    <tr>\n",
       "      <th>...</th>\n",
       "      <td>...</td>\n",
       "      <td>...</td>\n",
       "      <td>...</td>\n",
       "      <td>...</td>\n",
       "    </tr>\n",
       "    <tr>\n",
       "      <th>219</th>\n",
       "      <td>375</td>\n",
       "      <td>University of Graz</td>\n",
       "      <td>584</td>\n",
       "      <td>450</td>\n",
       "    </tr>\n",
       "    <tr>\n",
       "      <th>220</th>\n",
       "      <td>375</td>\n",
       "      <td>University of Lisbon</td>\n",
       "      <td>257</td>\n",
       "      <td>250</td>\n",
       "    </tr>\n",
       "    <tr>\n",
       "      <th>221</th>\n",
       "      <td>375</td>\n",
       "      <td>University of Turku</td>\n",
       "      <td>383</td>\n",
       "      <td>350</td>\n",
       "    </tr>\n",
       "    <tr>\n",
       "      <th>222</th>\n",
       "      <td>375</td>\n",
       "      <td>University of Vermont</td>\n",
       "      <td>324</td>\n",
       "      <td>350</td>\n",
       "    </tr>\n",
       "    <tr>\n",
       "      <th>223</th>\n",
       "      <td>375</td>\n",
       "      <td>Wuhan University</td>\n",
       "      <td>415</td>\n",
       "      <td>350</td>\n",
       "    </tr>\n",
       "  </tbody>\n",
       "</table>\n",
       "<p>224 rows × 4 columns</p>\n",
       "</div>"
      ],
      "text/plain": [
       "     times_world_rank                     university_name  cwur_world_rank  \\\n",
       "0                   1  California Institute of Technology               12   \n",
       "1                   2                  Harvard University                1   \n",
       "2                   3                University of Oxford                5   \n",
       "3                   4                 Stanford University                2   \n",
       "4                   5             University of Cambridge                4   \n",
       "..                ...                                 ...              ...   \n",
       "219               375                  University of Graz              584   \n",
       "220               375                University of Lisbon              257   \n",
       "221               375                 University of Turku              383   \n",
       "222               375               University of Vermont              324   \n",
       "223               375                    Wuhan University              415   \n",
       "\n",
       "     shanghai_world_rank  \n",
       "0                      7  \n",
       "1                      1  \n",
       "2                     10  \n",
       "3                      2  \n",
       "4                      5  \n",
       "..                   ...  \n",
       "219                  450  \n",
       "220                  250  \n",
       "221                  350  \n",
       "222                  350  \n",
       "223                  350  \n",
       "\n",
       "[224 rows x 4 columns]"
      ]
     },
     "execution_count": 18,
     "metadata": {},
     "output_type": "execute_result"
    }
   ],
   "source": [
    "times2015 = times[times['year'] == 2015]\n",
    "cwur2015 = cwur[cwur['year'] == 2015]\n",
    "shanghai2015 = shanghai[shanghai['year'] == 2015]\n",
    "\n",
    "\n",
    "\n",
    "tmp1 = times2015[[\"world_rank\",\"university_name\"]].rename(columns={\"world_rank\":\"times_world_rank\"})\n",
    "tmp2 = cwur2015[[\"world_rank\",\"institution\"]].rename(columns={\"world_rank\":\"cwur_world_rank\", \"institution\":\"university_name\"})\n",
    "tmp3 = shanghai2015[[\"world_rank\",\"university_name\"]].rename(columns={\"world_rank\":\"shanghai_world_rank\"})\n",
    "\n",
    "tmp4 = pd.merge(pd.merge(tmp1,tmp2),tmp3)\n",
    "tmp4"
   ]
  },
  {
   "cell_type": "code",
   "execution_count": 19,
   "metadata": {},
   "outputs": [],
   "source": [
    "x1 = tmp4['times_world_rank']\n",
    "x2 = tmp4['cwur_world_rank']\n",
    "x3 = tmp4['shanghai_world_rank']"
   ]
  },
  {
   "cell_type": "code",
   "execution_count": 20,
   "metadata": {},
   "outputs": [
    {
     "name": "stdout",
     "output_type": "stream",
     "text": [
      "BartlettResult(statistic=19.24355867931686, pvalue=6.626959656310036e-05)\n",
      "FlignerResult(statistic=8.536879039057567, pvalue=0.014003618485275473)\n",
      "LeveneResult(statistic=5.252435219373146, pvalue=0.005452810561792683)\n"
     ]
    }
   ],
   "source": [
    "from scipy import stats\n",
    "# 등분산 검정 => 위배\n",
    "print(stats.bartlett(x1,x2,x3),stats.fligner(x1, x2, x3) ,stats.levene(x1, x2, x3), sep=\"\\n\")"
   ]
  },
  {
   "cell_type": "code",
   "execution_count": 21,
   "metadata": {},
   "outputs": [
    {
     "name": "stdout",
     "output_type": "stream",
     "text": [
      "KstestResult(statistic=0.13839285714285715, pvalue=0.027291511737785698)\n",
      "KstestResult(statistic=0.15625, pvalue=0.008347980913595735)\n",
      "KstestResult(statistic=0.125, pvalue=0.060314242981172037)\n"
     ]
    }
   ],
   "source": [
    "#정규성 검정 => 위배\n",
    "print(stats.ks_2samp(x1, x2), stats.ks_2samp(x1, x3), stats.ks_2samp(x3, x2),  sep=\"\\n\")"
   ]
  },
  {
   "cell_type": "code",
   "execution_count": 22,
   "metadata": {},
   "outputs": [
    {
     "data": {
      "text/plain": [
       "KruskalResult(statistic=1.4514026426297846, pvalue=0.48398502089189244)"
      ]
     },
     "execution_count": 22,
     "metadata": {},
     "output_type": "execute_result"
    }
   ],
   "source": [
    "#kruskal wallis 를 사용\n",
    "stats.kruskal(x1, x2, x3) # 차이없다"
   ]
  },
  {
   "cell_type": "markdown",
   "metadata": {},
   "source": [
    "# times에서 상위 10위가 shanghai에서는?\n",
    "\n",
    "+ times와 shanghai는 거의 동일"
   ]
  },
  {
   "cell_type": "code",
   "execution_count": 46,
   "metadata": {},
   "outputs": [],
   "source": [
    "times = pd.read_excel(\"times_final.xlsx\")\n",
    "shanghai  = pd.read_excel(\"shanghai_final.xlsx\")"
   ]
  },
  {
   "cell_type": "markdown",
   "metadata": {},
   "source": [
    "### YEAR 2012"
   ]
  },
  {
   "cell_type": "code",
   "execution_count": 49,
   "metadata": {},
   "outputs": [
    {
     "data": {
      "text/html": [
       "<div>\n",
       "<style scoped>\n",
       "    .dataframe tbody tr th:only-of-type {\n",
       "        vertical-align: middle;\n",
       "    }\n",
       "\n",
       "    .dataframe tbody tr th {\n",
       "        vertical-align: top;\n",
       "    }\n",
       "\n",
       "    .dataframe thead th {\n",
       "        text-align: right;\n",
       "    }\n",
       "</style>\n",
       "<table border=\"1\" class=\"dataframe\">\n",
       "  <thead>\n",
       "    <tr style=\"text-align: right;\">\n",
       "      <th></th>\n",
       "      <th>times_world_rank</th>\n",
       "      <th>university_name</th>\n",
       "      <th>shanghai_world_rank</th>\n",
       "    </tr>\n",
       "  </thead>\n",
       "  <tbody>\n",
       "    <tr>\n",
       "      <th>0</th>\n",
       "      <td>1</td>\n",
       "      <td>California Institute of Technology</td>\n",
       "      <td>6</td>\n",
       "    </tr>\n",
       "    <tr>\n",
       "      <th>1</th>\n",
       "      <td>2</td>\n",
       "      <td>Harvard University</td>\n",
       "      <td>1</td>\n",
       "    </tr>\n",
       "    <tr>\n",
       "      <th>2</th>\n",
       "      <td>2</td>\n",
       "      <td>Stanford University</td>\n",
       "      <td>2</td>\n",
       "    </tr>\n",
       "    <tr>\n",
       "      <th>3</th>\n",
       "      <td>4</td>\n",
       "      <td>University of Oxford</td>\n",
       "      <td>10</td>\n",
       "    </tr>\n",
       "    <tr>\n",
       "      <th>4</th>\n",
       "      <td>5</td>\n",
       "      <td>Princeton University</td>\n",
       "      <td>7</td>\n",
       "    </tr>\n",
       "    <tr>\n",
       "      <th>5</th>\n",
       "      <td>6</td>\n",
       "      <td>University of Cambridge</td>\n",
       "      <td>5</td>\n",
       "    </tr>\n",
       "    <tr>\n",
       "      <th>6</th>\n",
       "      <td>9</td>\n",
       "      <td>University of Chicago</td>\n",
       "      <td>9</td>\n",
       "    </tr>\n",
       "    <tr>\n",
       "      <th>7</th>\n",
       "      <td>10</td>\n",
       "      <td>University of California, Berkeley</td>\n",
       "      <td>4</td>\n",
       "    </tr>\n",
       "  </tbody>\n",
       "</table>\n",
       "</div>"
      ],
      "text/plain": [
       "   times_world_rank                     university_name  shanghai_world_rank\n",
       "0                 1  California Institute of Technology                    6\n",
       "1                 2                  Harvard University                    1\n",
       "2                 2                 Stanford University                    2\n",
       "3                 4                University of Oxford                   10\n",
       "4                 5                Princeton University                    7\n",
       "5                 6             University of Cambridge                    5\n",
       "6                 9               University of Chicago                    9\n",
       "7                10  University of California, Berkeley                    4"
      ]
     },
     "execution_count": 49,
     "metadata": {},
     "output_type": "execute_result"
    }
   ],
   "source": [
    "times2012_top10 = times[times['year'] == 2012].head(10)\n",
    "\n",
    "tmp1 = times2012_top10[[\"world_rank\",\"university_name\"]].rename(columns={\"world_rank\":\"times_world_rank\"})\n",
    "tmp2 = shanghai[shanghai['year']==2012][[\"world_rank\",\"university_name\"]].rename(columns={\"world_rank\":\"shanghai_world_rank\"})\n",
    "\n",
    "tmp3 = pd.merge(tmp1,tmp2)\n",
    "tmp3"
   ]
  },
  {
   "cell_type": "code",
   "execution_count": 51,
   "metadata": {},
   "outputs": [
    {
     "data": {
      "text/plain": [
       "Ttest_relResult(statistic=-0.46799976466303467, pvalue=0.654006307161469)"
      ]
     },
     "execution_count": 51,
     "metadata": {},
     "output_type": "execute_result"
    }
   ],
   "source": [
    "# 차이 없음 pvalue=0.6540\n",
    "ttest_rel(tmp3.times_world_rank, tmp3.shanghai_world_rank)"
   ]
  },
  {
   "cell_type": "markdown",
   "metadata": {},
   "source": [
    "### YEAR 2013"
   ]
  },
  {
   "cell_type": "code",
   "execution_count": 52,
   "metadata": {},
   "outputs": [
    {
     "data": {
      "text/html": [
       "<div>\n",
       "<style scoped>\n",
       "    .dataframe tbody tr th:only-of-type {\n",
       "        vertical-align: middle;\n",
       "    }\n",
       "\n",
       "    .dataframe tbody tr th {\n",
       "        vertical-align: top;\n",
       "    }\n",
       "\n",
       "    .dataframe thead th {\n",
       "        text-align: right;\n",
       "    }\n",
       "</style>\n",
       "<table border=\"1\" class=\"dataframe\">\n",
       "  <thead>\n",
       "    <tr style=\"text-align: right;\">\n",
       "      <th></th>\n",
       "      <th>times_world_rank</th>\n",
       "      <th>university_name</th>\n",
       "      <th>shanghai_world_rank</th>\n",
       "    </tr>\n",
       "  </thead>\n",
       "  <tbody>\n",
       "    <tr>\n",
       "      <th>0</th>\n",
       "      <td>1</td>\n",
       "      <td>California Institute of Technology</td>\n",
       "      <td>6</td>\n",
       "    </tr>\n",
       "    <tr>\n",
       "      <th>1</th>\n",
       "      <td>2</td>\n",
       "      <td>Stanford University</td>\n",
       "      <td>2</td>\n",
       "    </tr>\n",
       "    <tr>\n",
       "      <th>2</th>\n",
       "      <td>2</td>\n",
       "      <td>University of Oxford</td>\n",
       "      <td>10</td>\n",
       "    </tr>\n",
       "    <tr>\n",
       "      <th>3</th>\n",
       "      <td>4</td>\n",
       "      <td>Harvard University</td>\n",
       "      <td>1</td>\n",
       "    </tr>\n",
       "    <tr>\n",
       "      <th>4</th>\n",
       "      <td>6</td>\n",
       "      <td>Princeton University</td>\n",
       "      <td>7</td>\n",
       "    </tr>\n",
       "    <tr>\n",
       "      <th>5</th>\n",
       "      <td>7</td>\n",
       "      <td>University of Cambridge</td>\n",
       "      <td>5</td>\n",
       "    </tr>\n",
       "    <tr>\n",
       "      <th>6</th>\n",
       "      <td>9</td>\n",
       "      <td>University of California, Berkeley</td>\n",
       "      <td>3</td>\n",
       "    </tr>\n",
       "    <tr>\n",
       "      <th>7</th>\n",
       "      <td>10</td>\n",
       "      <td>University of Chicago</td>\n",
       "      <td>9</td>\n",
       "    </tr>\n",
       "  </tbody>\n",
       "</table>\n",
       "</div>"
      ],
      "text/plain": [
       "   times_world_rank                     university_name  shanghai_world_rank\n",
       "0                 1  California Institute of Technology                    6\n",
       "1                 2                 Stanford University                    2\n",
       "2                 2                University of Oxford                   10\n",
       "3                 4                  Harvard University                    1\n",
       "4                 6                Princeton University                    7\n",
       "5                 7             University of Cambridge                    5\n",
       "6                 9  University of California, Berkeley                    3\n",
       "7                10               University of Chicago                    9"
      ]
     },
     "execution_count": 52,
     "metadata": {},
     "output_type": "execute_result"
    }
   ],
   "source": [
    "times2013_top10 = times[times['year'] == 2013].head(10)\n",
    "\n",
    "tmp1 = times2013_top10[[\"world_rank\",\"university_name\"]].rename(columns={\"world_rank\":\"times_world_rank\"})\n",
    "tmp2 = shanghai[shanghai['year']==2013][[\"world_rank\",\"university_name\"]].rename(columns={\"world_rank\":\"shanghai_world_rank\"})\n",
    "\n",
    "tmp3 = pd.merge(tmp1,tmp2)\n",
    "tmp3"
   ]
  },
  {
   "cell_type": "code",
   "execution_count": 54,
   "metadata": {},
   "outputs": [
    {
     "data": {
      "text/plain": [
       "Ttest_relResult(statistic=-0.15839698777049716, pvalue=0.8786167677584014)"
      ]
     },
     "execution_count": 54,
     "metadata": {},
     "output_type": "execute_result"
    }
   ],
   "source": [
    "ttest_rel(tmp3.times_world_rank, tmp3.shanghai_world_rank)"
   ]
  },
  {
   "cell_type": "markdown",
   "metadata": {},
   "source": [
    "### YEAR 2014"
   ]
  },
  {
   "cell_type": "code",
   "execution_count": 55,
   "metadata": {},
   "outputs": [
    {
     "data": {
      "text/html": [
       "<div>\n",
       "<style scoped>\n",
       "    .dataframe tbody tr th:only-of-type {\n",
       "        vertical-align: middle;\n",
       "    }\n",
       "\n",
       "    .dataframe tbody tr th {\n",
       "        vertical-align: top;\n",
       "    }\n",
       "\n",
       "    .dataframe thead th {\n",
       "        text-align: right;\n",
       "    }\n",
       "</style>\n",
       "<table border=\"1\" class=\"dataframe\">\n",
       "  <thead>\n",
       "    <tr style=\"text-align: right;\">\n",
       "      <th></th>\n",
       "      <th>times_world_rank</th>\n",
       "      <th>university_name</th>\n",
       "      <th>shanghai_world_rank</th>\n",
       "    </tr>\n",
       "  </thead>\n",
       "  <tbody>\n",
       "    <tr>\n",
       "      <th>0</th>\n",
       "      <td>1</td>\n",
       "      <td>California Institute of Technology</td>\n",
       "      <td>7</td>\n",
       "    </tr>\n",
       "    <tr>\n",
       "      <th>1</th>\n",
       "      <td>2</td>\n",
       "      <td>Harvard University</td>\n",
       "      <td>1</td>\n",
       "    </tr>\n",
       "    <tr>\n",
       "      <th>2</th>\n",
       "      <td>2</td>\n",
       "      <td>University of Oxford</td>\n",
       "      <td>9</td>\n",
       "    </tr>\n",
       "    <tr>\n",
       "      <th>3</th>\n",
       "      <td>4</td>\n",
       "      <td>Stanford University</td>\n",
       "      <td>2</td>\n",
       "    </tr>\n",
       "    <tr>\n",
       "      <th>4</th>\n",
       "      <td>6</td>\n",
       "      <td>Princeton University</td>\n",
       "      <td>6</td>\n",
       "    </tr>\n",
       "    <tr>\n",
       "      <th>5</th>\n",
       "      <td>7</td>\n",
       "      <td>University of Cambridge</td>\n",
       "      <td>5</td>\n",
       "    </tr>\n",
       "    <tr>\n",
       "      <th>6</th>\n",
       "      <td>9</td>\n",
       "      <td>University of Chicago</td>\n",
       "      <td>9</td>\n",
       "    </tr>\n",
       "  </tbody>\n",
       "</table>\n",
       "</div>"
      ],
      "text/plain": [
       "   times_world_rank                     university_name  shanghai_world_rank\n",
       "0                 1  California Institute of Technology                    7\n",
       "1                 2                  Harvard University                    1\n",
       "2                 2                University of Oxford                    9\n",
       "3                 4                 Stanford University                    2\n",
       "4                 6                Princeton University                    6\n",
       "5                 7             University of Cambridge                    5\n",
       "6                 9               University of Chicago                    9"
      ]
     },
     "execution_count": 55,
     "metadata": {},
     "output_type": "execute_result"
    }
   ],
   "source": [
    "times2014_top10 = times[times['year'] == 2014].head(10)\n",
    "\n",
    "tmp1 = times2014_top10[[\"world_rank\",\"university_name\"]].rename(columns={\"world_rank\":\"times_world_rank\"})\n",
    "tmp2 = shanghai[shanghai['year']==2014][[\"world_rank\",\"university_name\"]].rename(columns={\"world_rank\":\"shanghai_world_rank\"})\n",
    "\n",
    "tmp3 = pd.merge(tmp1,tmp2)\n",
    "tmp3"
   ]
  },
  {
   "cell_type": "code",
   "execution_count": 56,
   "metadata": {},
   "outputs": [
    {
     "data": {
      "text/plain": [
       "Ttest_relResult(statistic=-0.8040302522073696, pvalue=0.4520503329126979)"
      ]
     },
     "execution_count": 56,
     "metadata": {},
     "output_type": "execute_result"
    }
   ],
   "source": [
    "ttest_rel(tmp3.times_world_rank, tmp3.shanghai_world_rank)"
   ]
  },
  {
   "cell_type": "markdown",
   "metadata": {},
   "source": [
    "### YEAR 2015"
   ]
  },
  {
   "cell_type": "code",
   "execution_count": 57,
   "metadata": {},
   "outputs": [
    {
     "data": {
      "text/html": [
       "<div>\n",
       "<style scoped>\n",
       "    .dataframe tbody tr th:only-of-type {\n",
       "        vertical-align: middle;\n",
       "    }\n",
       "\n",
       "    .dataframe tbody tr th {\n",
       "        vertical-align: top;\n",
       "    }\n",
       "\n",
       "    .dataframe thead th {\n",
       "        text-align: right;\n",
       "    }\n",
       "</style>\n",
       "<table border=\"1\" class=\"dataframe\">\n",
       "  <thead>\n",
       "    <tr style=\"text-align: right;\">\n",
       "      <th></th>\n",
       "      <th>times_world_rank</th>\n",
       "      <th>university_name</th>\n",
       "      <th>shanghai_world_rank</th>\n",
       "    </tr>\n",
       "  </thead>\n",
       "  <tbody>\n",
       "    <tr>\n",
       "      <th>0</th>\n",
       "      <td>1</td>\n",
       "      <td>California Institute of Technology</td>\n",
       "      <td>7</td>\n",
       "    </tr>\n",
       "    <tr>\n",
       "      <th>1</th>\n",
       "      <td>2</td>\n",
       "      <td>Harvard University</td>\n",
       "      <td>1</td>\n",
       "    </tr>\n",
       "    <tr>\n",
       "      <th>2</th>\n",
       "      <td>3</td>\n",
       "      <td>University of Oxford</td>\n",
       "      <td>10</td>\n",
       "    </tr>\n",
       "    <tr>\n",
       "      <th>3</th>\n",
       "      <td>4</td>\n",
       "      <td>Stanford University</td>\n",
       "      <td>2</td>\n",
       "    </tr>\n",
       "    <tr>\n",
       "      <th>4</th>\n",
       "      <td>5</td>\n",
       "      <td>University of Cambridge</td>\n",
       "      <td>5</td>\n",
       "    </tr>\n",
       "    <tr>\n",
       "      <th>5</th>\n",
       "      <td>7</td>\n",
       "      <td>Princeton University</td>\n",
       "      <td>6</td>\n",
       "    </tr>\n",
       "    <tr>\n",
       "      <th>6</th>\n",
       "      <td>8</td>\n",
       "      <td>University of California, Berkeley</td>\n",
       "      <td>4</td>\n",
       "    </tr>\n",
       "    <tr>\n",
       "      <th>7</th>\n",
       "      <td>9</td>\n",
       "      <td>Yale University</td>\n",
       "      <td>11</td>\n",
       "    </tr>\n",
       "  </tbody>\n",
       "</table>\n",
       "</div>"
      ],
      "text/plain": [
       "   times_world_rank                     university_name  shanghai_world_rank\n",
       "0                 1  California Institute of Technology                    7\n",
       "1                 2                  Harvard University                    1\n",
       "2                 3                University of Oxford                   10\n",
       "3                 4                 Stanford University                    2\n",
       "4                 5             University of Cambridge                    5\n",
       "5                 7                Princeton University                    6\n",
       "6                 8  University of California, Berkeley                    4\n",
       "7                 9                     Yale University                   11"
      ]
     },
     "execution_count": 57,
     "metadata": {},
     "output_type": "execute_result"
    }
   ],
   "source": [
    "times2015_top10 = times[times['year'] == 2015].head(10)\n",
    "\n",
    "tmp1 = times2015_top10[[\"world_rank\",\"university_name\"]].rename(columns={\"world_rank\":\"times_world_rank\"})\n",
    "tmp2 = shanghai[shanghai['year']==2015][[\"world_rank\",\"university_name\"]].rename(columns={\"world_rank\":\"shanghai_world_rank\"})\n",
    "\n",
    "tmp3 = pd.merge(tmp1,tmp2)\n",
    "tmp3"
   ]
  },
  {
   "cell_type": "code",
   "execution_count": 58,
   "metadata": {},
   "outputs": [
    {
     "data": {
      "text/plain": [
       "Ttest_relResult(statistic=-0.6393903532568366, pvalue=0.542918546503643)"
      ]
     },
     "execution_count": 58,
     "metadata": {},
     "output_type": "execute_result"
    }
   ],
   "source": [
    "ttest_rel(tmp3.times_world_rank, tmp3.shanghai_world_rank)"
   ]
  },
  {
   "cell_type": "markdown",
   "metadata": {},
   "source": [
    "# cwur에서 상위 10위가 times에서는?\n",
    "\n",
    "+ 유의한 차이 없음"
   ]
  },
  {
   "cell_type": "markdown",
   "metadata": {},
   "source": [
    "### Year 2012"
   ]
  },
  {
   "cell_type": "code",
   "execution_count": 59,
   "metadata": {},
   "outputs": [
    {
     "data": {
      "text/html": [
       "<div>\n",
       "<style scoped>\n",
       "    .dataframe tbody tr th:only-of-type {\n",
       "        vertical-align: middle;\n",
       "    }\n",
       "\n",
       "    .dataframe tbody tr th {\n",
       "        vertical-align: top;\n",
       "    }\n",
       "\n",
       "    .dataframe thead th {\n",
       "        text-align: right;\n",
       "    }\n",
       "</style>\n",
       "<table border=\"1\" class=\"dataframe\">\n",
       "  <thead>\n",
       "    <tr style=\"text-align: right;\">\n",
       "      <th></th>\n",
       "      <th>cwur_world_rank</th>\n",
       "      <th>university_name</th>\n",
       "      <th>times_world_rank</th>\n",
       "    </tr>\n",
       "  </thead>\n",
       "  <tbody>\n",
       "    <tr>\n",
       "      <th>0</th>\n",
       "      <td>1</td>\n",
       "      <td>Harvard University</td>\n",
       "      <td>2</td>\n",
       "    </tr>\n",
       "    <tr>\n",
       "      <th>1</th>\n",
       "      <td>2</td>\n",
       "      <td>Massachusetts Institute of Technology</td>\n",
       "      <td>7</td>\n",
       "    </tr>\n",
       "    <tr>\n",
       "      <th>2</th>\n",
       "      <td>3</td>\n",
       "      <td>Stanford University</td>\n",
       "      <td>2</td>\n",
       "    </tr>\n",
       "    <tr>\n",
       "      <th>3</th>\n",
       "      <td>4</td>\n",
       "      <td>University of Cambridge</td>\n",
       "      <td>6</td>\n",
       "    </tr>\n",
       "    <tr>\n",
       "      <th>4</th>\n",
       "      <td>5</td>\n",
       "      <td>California Institute of Technology</td>\n",
       "      <td>1</td>\n",
       "    </tr>\n",
       "    <tr>\n",
       "      <th>5</th>\n",
       "      <td>6</td>\n",
       "      <td>Princeton University</td>\n",
       "      <td>5</td>\n",
       "    </tr>\n",
       "    <tr>\n",
       "      <th>6</th>\n",
       "      <td>7</td>\n",
       "      <td>University of Oxford</td>\n",
       "      <td>4</td>\n",
       "    </tr>\n",
       "    <tr>\n",
       "      <th>7</th>\n",
       "      <td>8</td>\n",
       "      <td>Yale University</td>\n",
       "      <td>11</td>\n",
       "    </tr>\n",
       "    <tr>\n",
       "      <th>8</th>\n",
       "      <td>9</td>\n",
       "      <td>Columbia University</td>\n",
       "      <td>12</td>\n",
       "    </tr>\n",
       "    <tr>\n",
       "      <th>9</th>\n",
       "      <td>10</td>\n",
       "      <td>University of California, Berkeley</td>\n",
       "      <td>10</td>\n",
       "    </tr>\n",
       "  </tbody>\n",
       "</table>\n",
       "</div>"
      ],
      "text/plain": [
       "   cwur_world_rank                        university_name  times_world_rank\n",
       "0                1                     Harvard University                 2\n",
       "1                2  Massachusetts Institute of Technology                 7\n",
       "2                3                    Stanford University                 2\n",
       "3                4                University of Cambridge                 6\n",
       "4                5     California Institute of Technology                 1\n",
       "5                6                   Princeton University                 5\n",
       "6                7                   University of Oxford                 4\n",
       "7                8                        Yale University                11\n",
       "8                9                    Columbia University                12\n",
       "9               10     University of California, Berkeley                10"
      ]
     },
     "execution_count": 59,
     "metadata": {},
     "output_type": "execute_result"
    }
   ],
   "source": [
    "cwur2012_top10 = cwur[cwur['year'] == 2012].head(10)\n",
    "cwur2012_top10\n",
    "\n",
    "\n",
    "tmp1 = cwur2012_top10[[\"world_rank\",\"institution\"]].rename(columns={\"world_rank\":\"cwur_world_rank\",\n",
    "                                                 \"institution\":\"university_name\"})\n",
    "tmp2 = times[times['year']==2012][[\"world_rank\",\"university_name\"]].rename(columns={\"world_rank\":\"times_world_rank\"})\n",
    "\n",
    "\n",
    "tmp3 = pd.merge(tmp1,tmp2)\n",
    "tmp3\n"
   ]
  },
  {
   "cell_type": "code",
   "execution_count": 60,
   "metadata": {},
   "outputs": [
    {
     "data": {
      "text/plain": [
       "Ttest_relResult(statistic=0.5570860145311556, pvalue=0.5910512317836047)"
      ]
     },
     "execution_count": 60,
     "metadata": {},
     "output_type": "execute_result"
    }
   ],
   "source": [
    "ttest_rel(tmp3.times_world_rank, tmp3.cwur_world_rank)"
   ]
  },
  {
   "cell_type": "markdown",
   "metadata": {},
   "source": [
    "### Year 2013"
   ]
  },
  {
   "cell_type": "code",
   "execution_count": 61,
   "metadata": {},
   "outputs": [
    {
     "data": {
      "text/html": [
       "<div>\n",
       "<style scoped>\n",
       "    .dataframe tbody tr th:only-of-type {\n",
       "        vertical-align: middle;\n",
       "    }\n",
       "\n",
       "    .dataframe tbody tr th {\n",
       "        vertical-align: top;\n",
       "    }\n",
       "\n",
       "    .dataframe thead th {\n",
       "        text-align: right;\n",
       "    }\n",
       "</style>\n",
       "<table border=\"1\" class=\"dataframe\">\n",
       "  <thead>\n",
       "    <tr style=\"text-align: right;\">\n",
       "      <th></th>\n",
       "      <th>cwur_world_rank</th>\n",
       "      <th>university_name</th>\n",
       "      <th>times_world_rank</th>\n",
       "    </tr>\n",
       "  </thead>\n",
       "  <tbody>\n",
       "    <tr>\n",
       "      <th>0</th>\n",
       "      <td>1</td>\n",
       "      <td>Harvard University</td>\n",
       "      <td>4</td>\n",
       "    </tr>\n",
       "    <tr>\n",
       "      <th>1</th>\n",
       "      <td>2</td>\n",
       "      <td>Stanford University</td>\n",
       "      <td>2</td>\n",
       "    </tr>\n",
       "    <tr>\n",
       "      <th>2</th>\n",
       "      <td>3</td>\n",
       "      <td>University of Oxford</td>\n",
       "      <td>2</td>\n",
       "    </tr>\n",
       "    <tr>\n",
       "      <th>3</th>\n",
       "      <td>4</td>\n",
       "      <td>Massachusetts Institute of Technology</td>\n",
       "      <td>5</td>\n",
       "    </tr>\n",
       "    <tr>\n",
       "      <th>4</th>\n",
       "      <td>5</td>\n",
       "      <td>University of Cambridge</td>\n",
       "      <td>7</td>\n",
       "    </tr>\n",
       "    <tr>\n",
       "      <th>5</th>\n",
       "      <td>6</td>\n",
       "      <td>Columbia University</td>\n",
       "      <td>14</td>\n",
       "    </tr>\n",
       "    <tr>\n",
       "      <th>6</th>\n",
       "      <td>7</td>\n",
       "      <td>University of California, Berkeley</td>\n",
       "      <td>9</td>\n",
       "    </tr>\n",
       "    <tr>\n",
       "      <th>7</th>\n",
       "      <td>8</td>\n",
       "      <td>Princeton University</td>\n",
       "      <td>6</td>\n",
       "    </tr>\n",
       "    <tr>\n",
       "      <th>8</th>\n",
       "      <td>9</td>\n",
       "      <td>University of Chicago</td>\n",
       "      <td>10</td>\n",
       "    </tr>\n",
       "    <tr>\n",
       "      <th>9</th>\n",
       "      <td>10</td>\n",
       "      <td>Yale University</td>\n",
       "      <td>11</td>\n",
       "    </tr>\n",
       "  </tbody>\n",
       "</table>\n",
       "</div>"
      ],
      "text/plain": [
       "   cwur_world_rank                        university_name  times_world_rank\n",
       "0                1                     Harvard University                 4\n",
       "1                2                    Stanford University                 2\n",
       "2                3                   University of Oxford                 2\n",
       "3                4  Massachusetts Institute of Technology                 5\n",
       "4                5                University of Cambridge                 7\n",
       "5                6                    Columbia University                14\n",
       "6                7     University of California, Berkeley                 9\n",
       "7                8                   Princeton University                 6\n",
       "8                9                  University of Chicago                10\n",
       "9               10                        Yale University                11"
      ]
     },
     "execution_count": 61,
     "metadata": {},
     "output_type": "execute_result"
    }
   ],
   "source": [
    "cwur2013_top10 = cwur[cwur['year'] == 2013].head(10)\n",
    "cwur2013_top10\n",
    "\n",
    "\n",
    "tmp1 = cwur2013_top10[[\"world_rank\",\"institution\"]].rename(columns={\"world_rank\":\"cwur_world_rank\",\n",
    "  \"institution\":\"university_name\"})\n",
    "tmp2 = times[times['year']==2013][[\"world_rank\",\"university_name\"]].rename(columns={\"world_rank\":\"times_world_rank\"})\n",
    "\n",
    "\n",
    "tmp3 = pd.merge(tmp1,tmp2)\n",
    "tmp3\n"
   ]
  },
  {
   "cell_type": "code",
   "execution_count": 62,
   "metadata": {},
   "outputs": [
    {
     "data": {
      "text/plain": [
       "Ttest_relResult(statistic=1.745025152241333, pvalue=0.1149396443478832)"
      ]
     },
     "execution_count": 62,
     "metadata": {},
     "output_type": "execute_result"
    }
   ],
   "source": [
    "ttest_rel(tmp3.times_world_rank, tmp3.cwur_world_rank)"
   ]
  },
  {
   "cell_type": "markdown",
   "metadata": {},
   "source": [
    "### Year 2014"
   ]
  },
  {
   "cell_type": "code",
   "execution_count": 63,
   "metadata": {},
   "outputs": [
    {
     "data": {
      "text/html": [
       "<div>\n",
       "<style scoped>\n",
       "    .dataframe tbody tr th:only-of-type {\n",
       "        vertical-align: middle;\n",
       "    }\n",
       "\n",
       "    .dataframe tbody tr th {\n",
       "        vertical-align: top;\n",
       "    }\n",
       "\n",
       "    .dataframe thead th {\n",
       "        text-align: right;\n",
       "    }\n",
       "</style>\n",
       "<table border=\"1\" class=\"dataframe\">\n",
       "  <thead>\n",
       "    <tr style=\"text-align: right;\">\n",
       "      <th></th>\n",
       "      <th>cwur_world_rank</th>\n",
       "      <th>university_name</th>\n",
       "      <th>times_world_rank</th>\n",
       "    </tr>\n",
       "  </thead>\n",
       "  <tbody>\n",
       "    <tr>\n",
       "      <th>0</th>\n",
       "      <td>1</td>\n",
       "      <td>Harvard University</td>\n",
       "      <td>2</td>\n",
       "    </tr>\n",
       "    <tr>\n",
       "      <th>1</th>\n",
       "      <td>2</td>\n",
       "      <td>Stanford University</td>\n",
       "      <td>4</td>\n",
       "    </tr>\n",
       "    <tr>\n",
       "      <th>2</th>\n",
       "      <td>3</td>\n",
       "      <td>Massachusetts Institute of Technology</td>\n",
       "      <td>5</td>\n",
       "    </tr>\n",
       "    <tr>\n",
       "      <th>3</th>\n",
       "      <td>4</td>\n",
       "      <td>University of Cambridge</td>\n",
       "      <td>7</td>\n",
       "    </tr>\n",
       "    <tr>\n",
       "      <th>4</th>\n",
       "      <td>5</td>\n",
       "      <td>University of Oxford</td>\n",
       "      <td>2</td>\n",
       "    </tr>\n",
       "    <tr>\n",
       "      <th>5</th>\n",
       "      <td>6</td>\n",
       "      <td>Columbia University</td>\n",
       "      <td>13</td>\n",
       "    </tr>\n",
       "    <tr>\n",
       "      <th>6</th>\n",
       "      <td>7</td>\n",
       "      <td>University of California, Berkeley</td>\n",
       "      <td>8</td>\n",
       "    </tr>\n",
       "    <tr>\n",
       "      <th>7</th>\n",
       "      <td>8</td>\n",
       "      <td>University of Chicago</td>\n",
       "      <td>9</td>\n",
       "    </tr>\n",
       "    <tr>\n",
       "      <th>8</th>\n",
       "      <td>9</td>\n",
       "      <td>Princeton University</td>\n",
       "      <td>6</td>\n",
       "    </tr>\n",
       "    <tr>\n",
       "      <th>9</th>\n",
       "      <td>10</td>\n",
       "      <td>Yale University</td>\n",
       "      <td>11</td>\n",
       "    </tr>\n",
       "  </tbody>\n",
       "</table>\n",
       "</div>"
      ],
      "text/plain": [
       "   cwur_world_rank                        university_name  times_world_rank\n",
       "0                1                     Harvard University                 2\n",
       "1                2                    Stanford University                 4\n",
       "2                3  Massachusetts Institute of Technology                 5\n",
       "3                4                University of Cambridge                 7\n",
       "4                5                   University of Oxford                 2\n",
       "5                6                    Columbia University                13\n",
       "6                7     University of California, Berkeley                 8\n",
       "7                8                  University of Chicago                 9\n",
       "8                9                   Princeton University                 6\n",
       "9               10                        Yale University                11"
      ]
     },
     "execution_count": 63,
     "metadata": {},
     "output_type": "execute_result"
    }
   ],
   "source": [
    "cwur2014_top10 = cwur[cwur['year'] == 2014].head(10)\n",
    "cwur2014_top10\n",
    "\n",
    "\n",
    "tmp1 = cwur2014_top10[[\"world_rank\",\"institution\"]].rename(columns={\"world_rank\":\"cwur_world_rank\",\n",
    "  \"institution\":\"university_name\"})\n",
    "tmp2 = times[times['year']==2014][[\"world_rank\",\"university_name\"]].rename(columns={\"world_rank\":\"times_world_rank\"})\n",
    "\n",
    "\n",
    "tmp3 = pd.merge(tmp1,tmp2)\n",
    "tmp3\n"
   ]
  },
  {
   "cell_type": "code",
   "execution_count": 64,
   "metadata": {},
   "outputs": [
    {
     "data": {
      "text/plain": [
       "Ttest_relResult(statistic=1.326977605394074, pvalue=0.217194922304716)"
      ]
     },
     "execution_count": 64,
     "metadata": {},
     "output_type": "execute_result"
    }
   ],
   "source": [
    "ttest_rel(tmp3.times_world_rank, tmp3.cwur_world_rank)"
   ]
  },
  {
   "cell_type": "markdown",
   "metadata": {},
   "source": [
    "### Year 2015"
   ]
  },
  {
   "cell_type": "code",
   "execution_count": 65,
   "metadata": {},
   "outputs": [
    {
     "data": {
      "text/html": [
       "<div>\n",
       "<style scoped>\n",
       "    .dataframe tbody tr th:only-of-type {\n",
       "        vertical-align: middle;\n",
       "    }\n",
       "\n",
       "    .dataframe tbody tr th {\n",
       "        vertical-align: top;\n",
       "    }\n",
       "\n",
       "    .dataframe thead th {\n",
       "        text-align: right;\n",
       "    }\n",
       "</style>\n",
       "<table border=\"1\" class=\"dataframe\">\n",
       "  <thead>\n",
       "    <tr style=\"text-align: right;\">\n",
       "      <th></th>\n",
       "      <th>cwur_world_rank</th>\n",
       "      <th>university_name</th>\n",
       "      <th>times_world_rank</th>\n",
       "    </tr>\n",
       "  </thead>\n",
       "  <tbody>\n",
       "    <tr>\n",
       "      <th>0</th>\n",
       "      <td>1</td>\n",
       "      <td>Harvard University</td>\n",
       "      <td>2</td>\n",
       "    </tr>\n",
       "    <tr>\n",
       "      <th>1</th>\n",
       "      <td>2</td>\n",
       "      <td>Stanford University</td>\n",
       "      <td>4</td>\n",
       "    </tr>\n",
       "    <tr>\n",
       "      <th>2</th>\n",
       "      <td>3</td>\n",
       "      <td>Massachusetts Institute of Technology</td>\n",
       "      <td>6</td>\n",
       "    </tr>\n",
       "    <tr>\n",
       "      <th>3</th>\n",
       "      <td>4</td>\n",
       "      <td>University of Cambridge</td>\n",
       "      <td>5</td>\n",
       "    </tr>\n",
       "    <tr>\n",
       "      <th>4</th>\n",
       "      <td>5</td>\n",
       "      <td>University of Oxford</td>\n",
       "      <td>3</td>\n",
       "    </tr>\n",
       "    <tr>\n",
       "      <th>5</th>\n",
       "      <td>6</td>\n",
       "      <td>Columbia University</td>\n",
       "      <td>14</td>\n",
       "    </tr>\n",
       "    <tr>\n",
       "      <th>6</th>\n",
       "      <td>7</td>\n",
       "      <td>University of California, Berkeley</td>\n",
       "      <td>8</td>\n",
       "    </tr>\n",
       "    <tr>\n",
       "      <th>7</th>\n",
       "      <td>8</td>\n",
       "      <td>University of Chicago</td>\n",
       "      <td>11</td>\n",
       "    </tr>\n",
       "    <tr>\n",
       "      <th>8</th>\n",
       "      <td>9</td>\n",
       "      <td>Princeton University</td>\n",
       "      <td>7</td>\n",
       "    </tr>\n",
       "    <tr>\n",
       "      <th>9</th>\n",
       "      <td>10</td>\n",
       "      <td>Cornell University</td>\n",
       "      <td>19</td>\n",
       "    </tr>\n",
       "  </tbody>\n",
       "</table>\n",
       "</div>"
      ],
      "text/plain": [
       "   cwur_world_rank                        university_name  times_world_rank\n",
       "0                1                     Harvard University                 2\n",
       "1                2                    Stanford University                 4\n",
       "2                3  Massachusetts Institute of Technology                 6\n",
       "3                4                University of Cambridge                 5\n",
       "4                5                   University of Oxford                 3\n",
       "5                6                    Columbia University                14\n",
       "6                7     University of California, Berkeley                 8\n",
       "7                8                  University of Chicago                11\n",
       "8                9                   Princeton University                 7\n",
       "9               10                     Cornell University                19"
      ]
     },
     "execution_count": 65,
     "metadata": {},
     "output_type": "execute_result"
    }
   ],
   "source": [
    "cwur2015_top10 = cwur[cwur['year'] == 2015].head(10)\n",
    "cwur2015_top10\n",
    "\n",
    "\n",
    "tmp1 = cwur2015_top10[[\"world_rank\",\"institution\"]].rename(columns={\"world_rank\":\"cwur_world_rank\",\n",
    "  \"institution\":\"university_name\"})\n",
    "tmp2 = times[times['year']==2015][[\"world_rank\",\"university_name\"]].rename(columns={\"world_rank\":\"times_world_rank\"})\n",
    "\n",
    "\n",
    "tmp3 = pd.merge(tmp1,tmp2)\n",
    "tmp3\n"
   ]
  },
  {
   "cell_type": "code",
   "execution_count": 66,
   "metadata": {},
   "outputs": [
    {
     "data": {
      "text/plain": [
       "Ttest_relResult(statistic=2.075005503735246, pvalue=0.0678118582876486)"
      ]
     },
     "execution_count": 66,
     "metadata": {},
     "output_type": "execute_result"
    }
   ],
   "source": [
    "ttest_rel(tmp3.times_world_rank, tmp3.cwur_world_rank)"
   ]
  },
  {
   "cell_type": "markdown",
   "metadata": {},
   "source": [
    "# cwur에서 상위 10위가 shanghai에서는?\n",
    "\n",
    "+ 유의한 차이 없음"
   ]
  },
  {
   "cell_type": "markdown",
   "metadata": {},
   "source": [
    "### Year 2012"
   ]
  },
  {
   "cell_type": "code",
   "execution_count": 67,
   "metadata": {},
   "outputs": [
    {
     "data": {
      "text/html": [
       "<div>\n",
       "<style scoped>\n",
       "    .dataframe tbody tr th:only-of-type {\n",
       "        vertical-align: middle;\n",
       "    }\n",
       "\n",
       "    .dataframe tbody tr th {\n",
       "        vertical-align: top;\n",
       "    }\n",
       "\n",
       "    .dataframe thead th {\n",
       "        text-align: right;\n",
       "    }\n",
       "</style>\n",
       "<table border=\"1\" class=\"dataframe\">\n",
       "  <thead>\n",
       "    <tr style=\"text-align: right;\">\n",
       "      <th></th>\n",
       "      <th>cwur_world_rank</th>\n",
       "      <th>university_name</th>\n",
       "      <th>shanghai_world_rank</th>\n",
       "    </tr>\n",
       "  </thead>\n",
       "  <tbody>\n",
       "    <tr>\n",
       "      <th>0</th>\n",
       "      <td>1</td>\n",
       "      <td>Harvard University</td>\n",
       "      <td>1</td>\n",
       "    </tr>\n",
       "    <tr>\n",
       "      <th>1</th>\n",
       "      <td>3</td>\n",
       "      <td>Stanford University</td>\n",
       "      <td>2</td>\n",
       "    </tr>\n",
       "    <tr>\n",
       "      <th>2</th>\n",
       "      <td>4</td>\n",
       "      <td>University of Cambridge</td>\n",
       "      <td>5</td>\n",
       "    </tr>\n",
       "    <tr>\n",
       "      <th>3</th>\n",
       "      <td>5</td>\n",
       "      <td>California Institute of Technology</td>\n",
       "      <td>6</td>\n",
       "    </tr>\n",
       "    <tr>\n",
       "      <th>4</th>\n",
       "      <td>6</td>\n",
       "      <td>Princeton University</td>\n",
       "      <td>7</td>\n",
       "    </tr>\n",
       "    <tr>\n",
       "      <th>5</th>\n",
       "      <td>7</td>\n",
       "      <td>University of Oxford</td>\n",
       "      <td>10</td>\n",
       "    </tr>\n",
       "    <tr>\n",
       "      <th>6</th>\n",
       "      <td>8</td>\n",
       "      <td>Yale University</td>\n",
       "      <td>11</td>\n",
       "    </tr>\n",
       "    <tr>\n",
       "      <th>7</th>\n",
       "      <td>9</td>\n",
       "      <td>Columbia University</td>\n",
       "      <td>8</td>\n",
       "    </tr>\n",
       "    <tr>\n",
       "      <th>8</th>\n",
       "      <td>10</td>\n",
       "      <td>University of California, Berkeley</td>\n",
       "      <td>4</td>\n",
       "    </tr>\n",
       "  </tbody>\n",
       "</table>\n",
       "</div>"
      ],
      "text/plain": [
       "   cwur_world_rank                     university_name  shanghai_world_rank\n",
       "0                1                  Harvard University                    1\n",
       "1                3                 Stanford University                    2\n",
       "2                4             University of Cambridge                    5\n",
       "3                5  California Institute of Technology                    6\n",
       "4                6                Princeton University                    7\n",
       "5                7                University of Oxford                   10\n",
       "6                8                     Yale University                   11\n",
       "7                9                 Columbia University                    8\n",
       "8               10  University of California, Berkeley                    4"
      ]
     },
     "execution_count": 67,
     "metadata": {},
     "output_type": "execute_result"
    }
   ],
   "source": [
    "cwur2012_top10 = cwur[cwur['year'] == 2012].head(10)\n",
    "cwur2012_top10\n",
    "\n",
    "\n",
    "tmp1 = cwur2012_top10[[\"world_rank\",\"institution\"]].rename(columns={\"world_rank\":\"cwur_world_rank\",\n",
    "  \"institution\":\"university_name\"})\n",
    "tmp2 = shanghai[shanghai['year']==2012][[\"world_rank\",\"university_name\"]].rename(columns={\"world_rank\":\"shanghai_world_rank\"})\n",
    "\n",
    "\n",
    "tmp3 = pd.merge(tmp1,tmp2)\n",
    "tmp3"
   ]
  },
  {
   "cell_type": "code",
   "execution_count": 68,
   "metadata": {},
   "outputs": [
    {
     "data": {
      "text/plain": [
       "Ttest_relResult(statistic=0.12285902336679022, pvalue=0.9052491586197566)"
      ]
     },
     "execution_count": 68,
     "metadata": {},
     "output_type": "execute_result"
    }
   ],
   "source": [
    "ttest_rel(tmp3.shanghai_world_rank, tmp3.cwur_world_rank)"
   ]
  },
  {
   "cell_type": "markdown",
   "metadata": {},
   "source": [
    "### Year 2013"
   ]
  },
  {
   "cell_type": "code",
   "execution_count": 69,
   "metadata": {},
   "outputs": [
    {
     "data": {
      "text/html": [
       "<div>\n",
       "<style scoped>\n",
       "    .dataframe tbody tr th:only-of-type {\n",
       "        vertical-align: middle;\n",
       "    }\n",
       "\n",
       "    .dataframe tbody tr th {\n",
       "        vertical-align: top;\n",
       "    }\n",
       "\n",
       "    .dataframe thead th {\n",
       "        text-align: right;\n",
       "    }\n",
       "</style>\n",
       "<table border=\"1\" class=\"dataframe\">\n",
       "  <thead>\n",
       "    <tr style=\"text-align: right;\">\n",
       "      <th></th>\n",
       "      <th>cwur_world_rank</th>\n",
       "      <th>university_name</th>\n",
       "      <th>shanghai_world_rank</th>\n",
       "    </tr>\n",
       "  </thead>\n",
       "  <tbody>\n",
       "    <tr>\n",
       "      <th>0</th>\n",
       "      <td>1</td>\n",
       "      <td>Harvard University</td>\n",
       "      <td>1</td>\n",
       "    </tr>\n",
       "    <tr>\n",
       "      <th>1</th>\n",
       "      <td>2</td>\n",
       "      <td>Stanford University</td>\n",
       "      <td>2</td>\n",
       "    </tr>\n",
       "    <tr>\n",
       "      <th>2</th>\n",
       "      <td>3</td>\n",
       "      <td>University of Oxford</td>\n",
       "      <td>10</td>\n",
       "    </tr>\n",
       "    <tr>\n",
       "      <th>3</th>\n",
       "      <td>5</td>\n",
       "      <td>University of Cambridge</td>\n",
       "      <td>5</td>\n",
       "    </tr>\n",
       "    <tr>\n",
       "      <th>4</th>\n",
       "      <td>6</td>\n",
       "      <td>Columbia University</td>\n",
       "      <td>8</td>\n",
       "    </tr>\n",
       "    <tr>\n",
       "      <th>5</th>\n",
       "      <td>7</td>\n",
       "      <td>University of California, Berkeley</td>\n",
       "      <td>3</td>\n",
       "    </tr>\n",
       "    <tr>\n",
       "      <th>6</th>\n",
       "      <td>8</td>\n",
       "      <td>Princeton University</td>\n",
       "      <td>7</td>\n",
       "    </tr>\n",
       "    <tr>\n",
       "      <th>7</th>\n",
       "      <td>9</td>\n",
       "      <td>University of Chicago</td>\n",
       "      <td>9</td>\n",
       "    </tr>\n",
       "    <tr>\n",
       "      <th>8</th>\n",
       "      <td>10</td>\n",
       "      <td>Yale University</td>\n",
       "      <td>11</td>\n",
       "    </tr>\n",
       "  </tbody>\n",
       "</table>\n",
       "</div>"
      ],
      "text/plain": [
       "   cwur_world_rank                     university_name  shanghai_world_rank\n",
       "0                1                  Harvard University                    1\n",
       "1                2                 Stanford University                    2\n",
       "2                3                University of Oxford                   10\n",
       "3                5             University of Cambridge                    5\n",
       "4                6                 Columbia University                    8\n",
       "5                7  University of California, Berkeley                    3\n",
       "6                8                Princeton University                    7\n",
       "7                9               University of Chicago                    9\n",
       "8               10                     Yale University                   11"
      ]
     },
     "execution_count": 69,
     "metadata": {},
     "output_type": "execute_result"
    }
   ],
   "source": [
    "cwur2013_top10 = cwur[cwur['year'] == 2013].head(10)\n",
    "cwur2013_top10\n",
    "\n",
    "\n",
    "tmp1 = cwur2013_top10[[\"world_rank\",\"institution\"]].rename(columns={\"world_rank\":\"cwur_world_rank\",\n",
    "  \"institution\":\"university_name\"})\n",
    "tmp2 = shanghai[shanghai['year']==2013][[\"world_rank\",\"university_name\"]].rename(columns={\"world_rank\":\"shanghai_world_rank\"})\n",
    "\n",
    "\n",
    "tmp3 = pd.merge(tmp1,tmp2)\n",
    "tmp3"
   ]
  },
  {
   "cell_type": "code",
   "execution_count": 70,
   "metadata": {},
   "outputs": [
    {
     "data": {
      "text/plain": [
       "Ttest_relResult(statistic=0.5707301455353496, pvalue=0.5838535610860944)"
      ]
     },
     "execution_count": 70,
     "metadata": {},
     "output_type": "execute_result"
    }
   ],
   "source": [
    "ttest_rel(tmp3.shanghai_world_rank, tmp3.cwur_world_rank)"
   ]
  },
  {
   "cell_type": "markdown",
   "metadata": {},
   "source": [
    "### Year 2014"
   ]
  },
  {
   "cell_type": "code",
   "execution_count": 71,
   "metadata": {},
   "outputs": [
    {
     "data": {
      "text/html": [
       "<div>\n",
       "<style scoped>\n",
       "    .dataframe tbody tr th:only-of-type {\n",
       "        vertical-align: middle;\n",
       "    }\n",
       "\n",
       "    .dataframe tbody tr th {\n",
       "        vertical-align: top;\n",
       "    }\n",
       "\n",
       "    .dataframe thead th {\n",
       "        text-align: right;\n",
       "    }\n",
       "</style>\n",
       "<table border=\"1\" class=\"dataframe\">\n",
       "  <thead>\n",
       "    <tr style=\"text-align: right;\">\n",
       "      <th></th>\n",
       "      <th>cwur_world_rank</th>\n",
       "      <th>university_name</th>\n",
       "      <th>shanghai_world_rank</th>\n",
       "    </tr>\n",
       "  </thead>\n",
       "  <tbody>\n",
       "    <tr>\n",
       "      <th>0</th>\n",
       "      <td>1</td>\n",
       "      <td>Harvard University</td>\n",
       "      <td>1</td>\n",
       "    </tr>\n",
       "    <tr>\n",
       "      <th>1</th>\n",
       "      <td>2</td>\n",
       "      <td>Stanford University</td>\n",
       "      <td>2</td>\n",
       "    </tr>\n",
       "    <tr>\n",
       "      <th>2</th>\n",
       "      <td>3</td>\n",
       "      <td>University of Oxford</td>\n",
       "      <td>10</td>\n",
       "    </tr>\n",
       "    <tr>\n",
       "      <th>3</th>\n",
       "      <td>5</td>\n",
       "      <td>University of Cambridge</td>\n",
       "      <td>5</td>\n",
       "    </tr>\n",
       "    <tr>\n",
       "      <th>4</th>\n",
       "      <td>6</td>\n",
       "      <td>Columbia University</td>\n",
       "      <td>8</td>\n",
       "    </tr>\n",
       "    <tr>\n",
       "      <th>5</th>\n",
       "      <td>7</td>\n",
       "      <td>University of California, Berkeley</td>\n",
       "      <td>3</td>\n",
       "    </tr>\n",
       "    <tr>\n",
       "      <th>6</th>\n",
       "      <td>8</td>\n",
       "      <td>Princeton University</td>\n",
       "      <td>7</td>\n",
       "    </tr>\n",
       "    <tr>\n",
       "      <th>7</th>\n",
       "      <td>9</td>\n",
       "      <td>University of Chicago</td>\n",
       "      <td>9</td>\n",
       "    </tr>\n",
       "    <tr>\n",
       "      <th>8</th>\n",
       "      <td>10</td>\n",
       "      <td>Yale University</td>\n",
       "      <td>11</td>\n",
       "    </tr>\n",
       "  </tbody>\n",
       "</table>\n",
       "</div>"
      ],
      "text/plain": [
       "   cwur_world_rank                     university_name  shanghai_world_rank\n",
       "0                1                  Harvard University                    1\n",
       "1                2                 Stanford University                    2\n",
       "2                3                University of Oxford                   10\n",
       "3                5             University of Cambridge                    5\n",
       "4                6                 Columbia University                    8\n",
       "5                7  University of California, Berkeley                    3\n",
       "6                8                Princeton University                    7\n",
       "7                9               University of Chicago                    9\n",
       "8               10                     Yale University                   11"
      ]
     },
     "execution_count": 71,
     "metadata": {},
     "output_type": "execute_result"
    }
   ],
   "source": [
    "cwur2013_top10 = cwur[cwur['year'] == 2013].head(10)\n",
    "cwur2013_top10\n",
    "\n",
    "\n",
    "tmp1 = cwur2013_top10[[\"world_rank\",\"institution\"]].rename(columns={\"world_rank\":\"cwur_world_rank\",\n",
    "  \"institution\":\"university_name\"})\n",
    "tmp2 = shanghai[shanghai['year']==2013][[\"world_rank\",\"university_name\"]].rename(columns={\"world_rank\":\"shanghai_world_rank\"})\n",
    "\n",
    "\n",
    "tmp3 = pd.merge(tmp1,tmp2)\n",
    "tmp3"
   ]
  },
  {
   "cell_type": "code",
   "execution_count": 72,
   "metadata": {},
   "outputs": [
    {
     "data": {
      "text/plain": [
       "Ttest_relResult(statistic=0.5707301455353496, pvalue=0.5838535610860944)"
      ]
     },
     "execution_count": 72,
     "metadata": {},
     "output_type": "execute_result"
    }
   ],
   "source": [
    "ttest_rel(tmp3.shanghai_world_rank, tmp3.cwur_world_rank)"
   ]
  },
  {
   "cell_type": "markdown",
   "metadata": {},
   "source": [
    "### Year 2015"
   ]
  },
  {
   "cell_type": "code",
   "execution_count": 73,
   "metadata": {},
   "outputs": [
    {
     "data": {
      "text/html": [
       "<div>\n",
       "<style scoped>\n",
       "    .dataframe tbody tr th:only-of-type {\n",
       "        vertical-align: middle;\n",
       "    }\n",
       "\n",
       "    .dataframe tbody tr th {\n",
       "        vertical-align: top;\n",
       "    }\n",
       "\n",
       "    .dataframe thead th {\n",
       "        text-align: right;\n",
       "    }\n",
       "</style>\n",
       "<table border=\"1\" class=\"dataframe\">\n",
       "  <thead>\n",
       "    <tr style=\"text-align: right;\">\n",
       "      <th></th>\n",
       "      <th>cwur_world_rank</th>\n",
       "      <th>university_name</th>\n",
       "      <th>shanghai_world_rank</th>\n",
       "    </tr>\n",
       "  </thead>\n",
       "  <tbody>\n",
       "    <tr>\n",
       "      <th>0</th>\n",
       "      <td>1</td>\n",
       "      <td>Harvard University</td>\n",
       "      <td>1</td>\n",
       "    </tr>\n",
       "    <tr>\n",
       "      <th>1</th>\n",
       "      <td>2</td>\n",
       "      <td>Stanford University</td>\n",
       "      <td>2</td>\n",
       "    </tr>\n",
       "    <tr>\n",
       "      <th>2</th>\n",
       "      <td>4</td>\n",
       "      <td>University of Cambridge</td>\n",
       "      <td>5</td>\n",
       "    </tr>\n",
       "    <tr>\n",
       "      <th>3</th>\n",
       "      <td>5</td>\n",
       "      <td>University of Oxford</td>\n",
       "      <td>10</td>\n",
       "    </tr>\n",
       "    <tr>\n",
       "      <th>4</th>\n",
       "      <td>6</td>\n",
       "      <td>Columbia University</td>\n",
       "      <td>8</td>\n",
       "    </tr>\n",
       "    <tr>\n",
       "      <th>5</th>\n",
       "      <td>7</td>\n",
       "      <td>University of California, Berkeley</td>\n",
       "      <td>4</td>\n",
       "    </tr>\n",
       "    <tr>\n",
       "      <th>6</th>\n",
       "      <td>8</td>\n",
       "      <td>University of Chicago</td>\n",
       "      <td>9</td>\n",
       "    </tr>\n",
       "    <tr>\n",
       "      <th>7</th>\n",
       "      <td>9</td>\n",
       "      <td>Princeton University</td>\n",
       "      <td>6</td>\n",
       "    </tr>\n",
       "    <tr>\n",
       "      <th>8</th>\n",
       "      <td>10</td>\n",
       "      <td>Cornell University</td>\n",
       "      <td>13</td>\n",
       "    </tr>\n",
       "  </tbody>\n",
       "</table>\n",
       "</div>"
      ],
      "text/plain": [
       "   cwur_world_rank                     university_name  shanghai_world_rank\n",
       "0                1                  Harvard University                    1\n",
       "1                2                 Stanford University                    2\n",
       "2                4             University of Cambridge                    5\n",
       "3                5                University of Oxford                   10\n",
       "4                6                 Columbia University                    8\n",
       "5                7  University of California, Berkeley                    4\n",
       "6                8               University of Chicago                    9\n",
       "7                9                Princeton University                    6\n",
       "8               10                  Cornell University                   13"
      ]
     },
     "execution_count": 73,
     "metadata": {},
     "output_type": "execute_result"
    }
   ],
   "source": [
    "cwur2015_top10 = cwur[cwur['year'] == 2015].head(10)\n",
    "cwur2015_top10\n",
    "\n",
    "\n",
    "tmp1 = cwur2015_top10[[\"world_rank\",\"institution\"]].rename(columns={\"world_rank\":\"cwur_world_rank\",\n",
    "  \"institution\":\"university_name\"})\n",
    "tmp2 = shanghai[shanghai['year']==2015][[\"world_rank\",\"university_name\"]].rename(columns={\"world_rank\":\"shanghai_world_rank\"})\n",
    "\n",
    "\n",
    "tmp3 = pd.merge(tmp1,tmp2)\n",
    "tmp3"
   ]
  },
  {
   "cell_type": "code",
   "execution_count": 74,
   "metadata": {},
   "outputs": [
    {
     "data": {
      "text/plain": [
       "Ttest_relResult(statistic=0.769800358919501, pvalue=0.4635402169203734)"
      ]
     },
     "execution_count": 74,
     "metadata": {},
     "output_type": "execute_result"
    }
   ],
   "source": [
    "ttest_rel(tmp3.shanghai_world_rank, tmp3.cwur_world_rank)"
   ]
  },
  {
   "cell_type": "markdown",
   "metadata": {},
   "source": [
    "# shanghai에서 상위 10위가 times에서는?"
   ]
  },
  {
   "cell_type": "markdown",
   "metadata": {},
   "source": [
    "### Year2012"
   ]
  },
  {
   "cell_type": "code",
   "execution_count": 76,
   "metadata": {},
   "outputs": [
    {
     "data": {
      "text/html": [
       "<div>\n",
       "<style scoped>\n",
       "    .dataframe tbody tr th:only-of-type {\n",
       "        vertical-align: middle;\n",
       "    }\n",
       "\n",
       "    .dataframe tbody tr th {\n",
       "        vertical-align: top;\n",
       "    }\n",
       "\n",
       "    .dataframe thead th {\n",
       "        text-align: right;\n",
       "    }\n",
       "</style>\n",
       "<table border=\"1\" class=\"dataframe\">\n",
       "  <thead>\n",
       "    <tr style=\"text-align: right;\">\n",
       "      <th></th>\n",
       "      <th>shanghai_world_rank</th>\n",
       "      <th>university_name</th>\n",
       "      <th>times_world_rank</th>\n",
       "    </tr>\n",
       "  </thead>\n",
       "  <tbody>\n",
       "    <tr>\n",
       "      <th>0</th>\n",
       "      <td>1</td>\n",
       "      <td>Harvard University</td>\n",
       "      <td>2</td>\n",
       "    </tr>\n",
       "    <tr>\n",
       "      <th>1</th>\n",
       "      <td>2</td>\n",
       "      <td>Stanford University</td>\n",
       "      <td>2</td>\n",
       "    </tr>\n",
       "    <tr>\n",
       "      <th>2</th>\n",
       "      <td>4</td>\n",
       "      <td>University of California, Berkeley</td>\n",
       "      <td>10</td>\n",
       "    </tr>\n",
       "    <tr>\n",
       "      <th>3</th>\n",
       "      <td>5</td>\n",
       "      <td>University of Cambridge</td>\n",
       "      <td>6</td>\n",
       "    </tr>\n",
       "    <tr>\n",
       "      <th>4</th>\n",
       "      <td>6</td>\n",
       "      <td>California Institute of Technology</td>\n",
       "      <td>1</td>\n",
       "    </tr>\n",
       "    <tr>\n",
       "      <th>5</th>\n",
       "      <td>7</td>\n",
       "      <td>Princeton University</td>\n",
       "      <td>5</td>\n",
       "    </tr>\n",
       "    <tr>\n",
       "      <th>6</th>\n",
       "      <td>8</td>\n",
       "      <td>Columbia University</td>\n",
       "      <td>12</td>\n",
       "    </tr>\n",
       "    <tr>\n",
       "      <th>7</th>\n",
       "      <td>9</td>\n",
       "      <td>University of Chicago</td>\n",
       "      <td>9</td>\n",
       "    </tr>\n",
       "    <tr>\n",
       "      <th>8</th>\n",
       "      <td>10</td>\n",
       "      <td>University of Oxford</td>\n",
       "      <td>4</td>\n",
       "    </tr>\n",
       "  </tbody>\n",
       "</table>\n",
       "</div>"
      ],
      "text/plain": [
       "   shanghai_world_rank                     university_name  times_world_rank\n",
       "0                    1                  Harvard University                 2\n",
       "1                    2                 Stanford University                 2\n",
       "2                    4  University of California, Berkeley                10\n",
       "3                    5             University of Cambridge                 6\n",
       "4                    6  California Institute of Technology                 1\n",
       "5                    7                Princeton University                 5\n",
       "6                    8                 Columbia University                12\n",
       "7                    9               University of Chicago                 9\n",
       "8                   10                University of Oxford                 4"
      ]
     },
     "execution_count": 76,
     "metadata": {},
     "output_type": "execute_result"
    }
   ],
   "source": [
    "shanghai2012_top10 = shanghai[shanghai['year'] == 2012].head(10)\n",
    "\n",
    "tmp1 = shanghai2012_top10[[\"world_rank\",\"university_name\"]].rename(columns={\"world_rank\":\"shanghai_world_rank\"})\n",
    "tmp2 = times[times['year']==2012][[\"world_rank\",\"university_name\"]].rename(columns={\"world_rank\":\"times_world_rank\"})\n",
    "\n",
    "tmp3 = pd.merge(tmp1,tmp2)\n",
    "tmp3"
   ]
  },
  {
   "cell_type": "code",
   "execution_count": 77,
   "metadata": {},
   "outputs": [
    {
     "data": {
      "text/plain": [
       "Ttest_relResult(statistic=-0.08646754023342337, pvalue=0.9332197776918166)"
      ]
     },
     "execution_count": 77,
     "metadata": {},
     "output_type": "execute_result"
    }
   ],
   "source": [
    "ttest_rel(tmp3.times_world_rank, tmp3.shanghai_world_rank)"
   ]
  },
  {
   "cell_type": "markdown",
   "metadata": {},
   "source": [
    "### Year2013"
   ]
  },
  {
   "cell_type": "code",
   "execution_count": 78,
   "metadata": {},
   "outputs": [
    {
     "data": {
      "text/html": [
       "<div>\n",
       "<style scoped>\n",
       "    .dataframe tbody tr th:only-of-type {\n",
       "        vertical-align: middle;\n",
       "    }\n",
       "\n",
       "    .dataframe tbody tr th {\n",
       "        vertical-align: top;\n",
       "    }\n",
       "\n",
       "    .dataframe thead th {\n",
       "        text-align: right;\n",
       "    }\n",
       "</style>\n",
       "<table border=\"1\" class=\"dataframe\">\n",
       "  <thead>\n",
       "    <tr style=\"text-align: right;\">\n",
       "      <th></th>\n",
       "      <th>shanghai_world_rank</th>\n",
       "      <th>university_name</th>\n",
       "      <th>times_world_rank</th>\n",
       "    </tr>\n",
       "  </thead>\n",
       "  <tbody>\n",
       "    <tr>\n",
       "      <th>0</th>\n",
       "      <td>1</td>\n",
       "      <td>Harvard University</td>\n",
       "      <td>4</td>\n",
       "    </tr>\n",
       "    <tr>\n",
       "      <th>1</th>\n",
       "      <td>2</td>\n",
       "      <td>Stanford University</td>\n",
       "      <td>2</td>\n",
       "    </tr>\n",
       "    <tr>\n",
       "      <th>2</th>\n",
       "      <td>3</td>\n",
       "      <td>University of California, Berkeley</td>\n",
       "      <td>9</td>\n",
       "    </tr>\n",
       "    <tr>\n",
       "      <th>3</th>\n",
       "      <td>5</td>\n",
       "      <td>University of Cambridge</td>\n",
       "      <td>7</td>\n",
       "    </tr>\n",
       "    <tr>\n",
       "      <th>4</th>\n",
       "      <td>6</td>\n",
       "      <td>California Institute of Technology</td>\n",
       "      <td>1</td>\n",
       "    </tr>\n",
       "    <tr>\n",
       "      <th>5</th>\n",
       "      <td>7</td>\n",
       "      <td>Princeton University</td>\n",
       "      <td>6</td>\n",
       "    </tr>\n",
       "    <tr>\n",
       "      <th>6</th>\n",
       "      <td>8</td>\n",
       "      <td>Columbia University</td>\n",
       "      <td>14</td>\n",
       "    </tr>\n",
       "    <tr>\n",
       "      <th>7</th>\n",
       "      <td>9</td>\n",
       "      <td>University of Chicago</td>\n",
       "      <td>10</td>\n",
       "    </tr>\n",
       "    <tr>\n",
       "      <th>8</th>\n",
       "      <td>10</td>\n",
       "      <td>University of Oxford</td>\n",
       "      <td>2</td>\n",
       "    </tr>\n",
       "  </tbody>\n",
       "</table>\n",
       "</div>"
      ],
      "text/plain": [
       "   shanghai_world_rank                     university_name  times_world_rank\n",
       "0                    1                  Harvard University                 4\n",
       "1                    2                 Stanford University                 2\n",
       "2                    3  University of California, Berkeley                 9\n",
       "3                    5             University of Cambridge                 7\n",
       "4                    6  California Institute of Technology                 1\n",
       "5                    7                Princeton University                 6\n",
       "6                    8                 Columbia University                14\n",
       "7                    9               University of Chicago                10\n",
       "8                   10                University of Oxford                 2"
      ]
     },
     "execution_count": 78,
     "metadata": {},
     "output_type": "execute_result"
    }
   ],
   "source": [
    "shanghai2013_top10 = shanghai[shanghai['year'] == 2013].head(10)\n",
    "\n",
    "tmp1 = shanghai2013_top10[[\"world_rank\",\"university_name\"]].rename(columns={\"world_rank\":\"shanghai_world_rank\"})\n",
    "tmp2 = times[times['year']==2013][[\"world_rank\",\"university_name\"]].rename(columns={\"world_rank\":\"times_world_rank\"})\n",
    "\n",
    "tmp3 = pd.merge(tmp1,tmp2)\n",
    "tmp3"
   ]
  },
  {
   "cell_type": "code",
   "execution_count": 79,
   "metadata": {},
   "outputs": [
    {
     "data": {
      "text/plain": [
       "Ttest_relResult(statistic=0.2857142857142857, pvalue=0.782355278822183)"
      ]
     },
     "execution_count": 79,
     "metadata": {},
     "output_type": "execute_result"
    }
   ],
   "source": [
    "ttest_rel(tmp3.times_world_rank, tmp3.shanghai_world_rank)"
   ]
  },
  {
   "cell_type": "markdown",
   "metadata": {},
   "source": [
    "### Year2014"
   ]
  },
  {
   "cell_type": "code",
   "execution_count": 81,
   "metadata": {},
   "outputs": [
    {
     "data": {
      "text/html": [
       "<div>\n",
       "<style scoped>\n",
       "    .dataframe tbody tr th:only-of-type {\n",
       "        vertical-align: middle;\n",
       "    }\n",
       "\n",
       "    .dataframe tbody tr th {\n",
       "        vertical-align: top;\n",
       "    }\n",
       "\n",
       "    .dataframe thead th {\n",
       "        text-align: right;\n",
       "    }\n",
       "</style>\n",
       "<table border=\"1\" class=\"dataframe\">\n",
       "  <thead>\n",
       "    <tr style=\"text-align: right;\">\n",
       "      <th></th>\n",
       "      <th>shanghai_world_rank</th>\n",
       "      <th>university_name</th>\n",
       "      <th>times_world_rank</th>\n",
       "    </tr>\n",
       "  </thead>\n",
       "  <tbody>\n",
       "    <tr>\n",
       "      <th>0</th>\n",
       "      <td>1</td>\n",
       "      <td>Harvard University</td>\n",
       "      <td>2</td>\n",
       "    </tr>\n",
       "    <tr>\n",
       "      <th>1</th>\n",
       "      <td>2</td>\n",
       "      <td>Stanford University</td>\n",
       "      <td>4</td>\n",
       "    </tr>\n",
       "    <tr>\n",
       "      <th>2</th>\n",
       "      <td>5</td>\n",
       "      <td>University of Cambridge</td>\n",
       "      <td>7</td>\n",
       "    </tr>\n",
       "    <tr>\n",
       "      <th>3</th>\n",
       "      <td>6</td>\n",
       "      <td>Princeton University</td>\n",
       "      <td>6</td>\n",
       "    </tr>\n",
       "    <tr>\n",
       "      <th>4</th>\n",
       "      <td>7</td>\n",
       "      <td>California Institute of Technology</td>\n",
       "      <td>1</td>\n",
       "    </tr>\n",
       "    <tr>\n",
       "      <th>5</th>\n",
       "      <td>8</td>\n",
       "      <td>Columbia University</td>\n",
       "      <td>13</td>\n",
       "    </tr>\n",
       "    <tr>\n",
       "      <th>6</th>\n",
       "      <td>9</td>\n",
       "      <td>University of Chicago</td>\n",
       "      <td>9</td>\n",
       "    </tr>\n",
       "    <tr>\n",
       "      <th>7</th>\n",
       "      <td>9</td>\n",
       "      <td>University of Oxford</td>\n",
       "      <td>2</td>\n",
       "    </tr>\n",
       "  </tbody>\n",
       "</table>\n",
       "</div>"
      ],
      "text/plain": [
       "   shanghai_world_rank                     university_name  times_world_rank\n",
       "0                    1                  Harvard University                 2\n",
       "1                    2                 Stanford University                 4\n",
       "2                    5             University of Cambridge                 7\n",
       "3                    6                Princeton University                 6\n",
       "4                    7  California Institute of Technology                 1\n",
       "5                    8                 Columbia University                13\n",
       "6                    9               University of Chicago                 9\n",
       "7                    9                University of Oxford                 2"
      ]
     },
     "execution_count": 81,
     "metadata": {},
     "output_type": "execute_result"
    }
   ],
   "source": [
    "shanghai2014_top10 = shanghai[shanghai['year'] == 2014].head(10)\n",
    "\n",
    "tmp1 = shanghai2014_top10[[\"world_rank\",\"university_name\"]].rename(columns={\"world_rank\":\"shanghai_world_rank\"})\n",
    "tmp2 = times[times['year']==2014][[\"world_rank\",\"university_name\"]].rename(columns={\"world_rank\":\"times_world_rank\"})\n",
    "\n",
    "tmp3 = pd.merge(tmp1,tmp2)\n",
    "tmp3"
   ]
  },
  {
   "cell_type": "code",
   "execution_count": 82,
   "metadata": {},
   "outputs": [
    {
     "data": {
      "text/plain": [
       "Ttest_relResult(statistic=-0.2584725505444276, pvalue=0.8034773779387544)"
      ]
     },
     "execution_count": 82,
     "metadata": {},
     "output_type": "execute_result"
    }
   ],
   "source": [
    "ttest_rel(tmp3.times_world_rank, tmp3.shanghai_world_rank)"
   ]
  },
  {
   "cell_type": "markdown",
   "metadata": {},
   "source": [
    "### Year2015"
   ]
  },
  {
   "cell_type": "code",
   "execution_count": 83,
   "metadata": {},
   "outputs": [
    {
     "data": {
      "text/html": [
       "<div>\n",
       "<style scoped>\n",
       "    .dataframe tbody tr th:only-of-type {\n",
       "        vertical-align: middle;\n",
       "    }\n",
       "\n",
       "    .dataframe tbody tr th {\n",
       "        vertical-align: top;\n",
       "    }\n",
       "\n",
       "    .dataframe thead th {\n",
       "        text-align: right;\n",
       "    }\n",
       "</style>\n",
       "<table border=\"1\" class=\"dataframe\">\n",
       "  <thead>\n",
       "    <tr style=\"text-align: right;\">\n",
       "      <th></th>\n",
       "      <th>shanghai_world_rank</th>\n",
       "      <th>university_name</th>\n",
       "      <th>times_world_rank</th>\n",
       "    </tr>\n",
       "  </thead>\n",
       "  <tbody>\n",
       "    <tr>\n",
       "      <th>0</th>\n",
       "      <td>1</td>\n",
       "      <td>Harvard University</td>\n",
       "      <td>2</td>\n",
       "    </tr>\n",
       "    <tr>\n",
       "      <th>1</th>\n",
       "      <td>2</td>\n",
       "      <td>Stanford University</td>\n",
       "      <td>4</td>\n",
       "    </tr>\n",
       "    <tr>\n",
       "      <th>2</th>\n",
       "      <td>4</td>\n",
       "      <td>University of California, Berkeley</td>\n",
       "      <td>8</td>\n",
       "    </tr>\n",
       "    <tr>\n",
       "      <th>3</th>\n",
       "      <td>5</td>\n",
       "      <td>University of Cambridge</td>\n",
       "      <td>5</td>\n",
       "    </tr>\n",
       "    <tr>\n",
       "      <th>4</th>\n",
       "      <td>6</td>\n",
       "      <td>Princeton University</td>\n",
       "      <td>7</td>\n",
       "    </tr>\n",
       "    <tr>\n",
       "      <th>5</th>\n",
       "      <td>7</td>\n",
       "      <td>California Institute of Technology</td>\n",
       "      <td>1</td>\n",
       "    </tr>\n",
       "    <tr>\n",
       "      <th>6</th>\n",
       "      <td>8</td>\n",
       "      <td>Columbia University</td>\n",
       "      <td>14</td>\n",
       "    </tr>\n",
       "    <tr>\n",
       "      <th>7</th>\n",
       "      <td>9</td>\n",
       "      <td>University of Chicago</td>\n",
       "      <td>11</td>\n",
       "    </tr>\n",
       "    <tr>\n",
       "      <th>8</th>\n",
       "      <td>10</td>\n",
       "      <td>University of Oxford</td>\n",
       "      <td>3</td>\n",
       "    </tr>\n",
       "  </tbody>\n",
       "</table>\n",
       "</div>"
      ],
      "text/plain": [
       "   shanghai_world_rank                     university_name  times_world_rank\n",
       "0                    1                  Harvard University                 2\n",
       "1                    2                 Stanford University                 4\n",
       "2                    4  University of California, Berkeley                 8\n",
       "3                    5             University of Cambridge                 5\n",
       "4                    6                Princeton University                 7\n",
       "5                    7  California Institute of Technology                 1\n",
       "6                    8                 Columbia University                14\n",
       "7                    9               University of Chicago                11\n",
       "8                   10                University of Oxford                 3"
      ]
     },
     "execution_count": 83,
     "metadata": {},
     "output_type": "execute_result"
    }
   ],
   "source": [
    "shanghai2015_top10 = shanghai[shanghai['year'] == 2015].head(10)\n",
    "\n",
    "tmp1 = shanghai2015_top10[[\"world_rank\",\"university_name\"]].rename(columns={\"world_rank\":\"shanghai_world_rank\"})\n",
    "tmp2 = times[times['year']==2015][[\"world_rank\",\"university_name\"]].rename(columns={\"world_rank\":\"times_world_rank\"})\n",
    "\n",
    "tmp3 = pd.merge(tmp1,tmp2)\n",
    "tmp3"
   ]
  },
  {
   "cell_type": "code",
   "execution_count": 84,
   "metadata": {},
   "outputs": [
    {
     "data": {
      "text/plain": [
       "Ttest_relResult(statistic=0.23408229439226114, pvalue=0.8208003996247182)"
      ]
     },
     "execution_count": 84,
     "metadata": {},
     "output_type": "execute_result"
    }
   ],
   "source": [
    "ttest_rel(tmp3.times_world_rank, tmp3.shanghai_world_rank)"
   ]
  },
  {
   "cell_type": "markdown",
   "metadata": {},
   "source": [
    "# shanghai에서 상위 10위가 cwur에서는?"
   ]
  },
  {
   "cell_type": "markdown",
   "metadata": {},
   "source": [
    "### Year 2012"
   ]
  },
  {
   "cell_type": "code",
   "execution_count": 96,
   "metadata": {},
   "outputs": [
    {
     "data": {
      "text/html": [
       "<div>\n",
       "<style scoped>\n",
       "    .dataframe tbody tr th:only-of-type {\n",
       "        vertical-align: middle;\n",
       "    }\n",
       "\n",
       "    .dataframe tbody tr th {\n",
       "        vertical-align: top;\n",
       "    }\n",
       "\n",
       "    .dataframe thead th {\n",
       "        text-align: right;\n",
       "    }\n",
       "</style>\n",
       "<table border=\"1\" class=\"dataframe\">\n",
       "  <thead>\n",
       "    <tr style=\"text-align: right;\">\n",
       "      <th></th>\n",
       "      <th>shanghai_world_rank</th>\n",
       "      <th>university_name</th>\n",
       "      <th>cwur_world_rank</th>\n",
       "    </tr>\n",
       "  </thead>\n",
       "  <tbody>\n",
       "    <tr>\n",
       "      <th>0</th>\n",
       "      <td>1</td>\n",
       "      <td>Harvard University</td>\n",
       "      <td>1</td>\n",
       "    </tr>\n",
       "    <tr>\n",
       "      <th>1</th>\n",
       "      <td>2</td>\n",
       "      <td>Stanford University</td>\n",
       "      <td>3</td>\n",
       "    </tr>\n",
       "    <tr>\n",
       "      <th>2</th>\n",
       "      <td>4</td>\n",
       "      <td>University of California, Berkeley</td>\n",
       "      <td>10</td>\n",
       "    </tr>\n",
       "    <tr>\n",
       "      <th>3</th>\n",
       "      <td>5</td>\n",
       "      <td>University of Cambridge</td>\n",
       "      <td>4</td>\n",
       "    </tr>\n",
       "    <tr>\n",
       "      <th>4</th>\n",
       "      <td>6</td>\n",
       "      <td>California Institute of Technology</td>\n",
       "      <td>5</td>\n",
       "    </tr>\n",
       "    <tr>\n",
       "      <th>5</th>\n",
       "      <td>7</td>\n",
       "      <td>Princeton University</td>\n",
       "      <td>6</td>\n",
       "    </tr>\n",
       "    <tr>\n",
       "      <th>6</th>\n",
       "      <td>8</td>\n",
       "      <td>Columbia University</td>\n",
       "      <td>9</td>\n",
       "    </tr>\n",
       "    <tr>\n",
       "      <th>7</th>\n",
       "      <td>9</td>\n",
       "      <td>University of Chicago</td>\n",
       "      <td>11</td>\n",
       "    </tr>\n",
       "    <tr>\n",
       "      <th>8</th>\n",
       "      <td>10</td>\n",
       "      <td>University of Oxford</td>\n",
       "      <td>7</td>\n",
       "    </tr>\n",
       "  </tbody>\n",
       "</table>\n",
       "</div>"
      ],
      "text/plain": [
       "   shanghai_world_rank                     university_name  cwur_world_rank\n",
       "0                    1                  Harvard University                1\n",
       "1                    2                 Stanford University                3\n",
       "2                    4  University of California, Berkeley               10\n",
       "3                    5             University of Cambridge                4\n",
       "4                    6  California Institute of Technology                5\n",
       "5                    7                Princeton University                6\n",
       "6                    8                 Columbia University                9\n",
       "7                    9               University of Chicago               11\n",
       "8                   10                University of Oxford                7"
      ]
     },
     "execution_count": 96,
     "metadata": {},
     "output_type": "execute_result"
    }
   ],
   "source": [
    "shanghai2012_top10 = shanghai[shanghai['year'] == 2012].head(10)\n",
    "\n",
    "tmp1 = shanghai2012_top10[[\"world_rank\",\"university_name\"]].rename(columns={\"world_rank\":\"shanghai_world_rank\"})\n",
    "tmp2 = cwur[cwur['year']==2012][[\"world_rank\",\"institution\"]].rename(columns={\"world_rank\":\"cwur_world_rank\",\n",
    "  \"institution\":\"university_name\"})\n",
    "\n",
    "tmp3 = pd.merge(tmp1,tmp2)\n",
    "tmp3"
   ]
  },
  {
   "cell_type": "code",
   "execution_count": 97,
   "metadata": {},
   "outputs": [
    {
     "data": {
      "text/plain": [
       "Ttest_relResult(statistic=0.5218624584427538, pvalue=0.6159027828310646)"
      ]
     },
     "execution_count": 97,
     "metadata": {},
     "output_type": "execute_result"
    }
   ],
   "source": [
    "ttest_rel(tmp3.cwur_world_rank, tmp3.shanghai_world_rank)"
   ]
  },
  {
   "cell_type": "markdown",
   "metadata": {},
   "source": [
    "### Year 2013"
   ]
  },
  {
   "cell_type": "code",
   "execution_count": 90,
   "metadata": {},
   "outputs": [
    {
     "data": {
      "text/html": [
       "<div>\n",
       "<style scoped>\n",
       "    .dataframe tbody tr th:only-of-type {\n",
       "        vertical-align: middle;\n",
       "    }\n",
       "\n",
       "    .dataframe tbody tr th {\n",
       "        vertical-align: top;\n",
       "    }\n",
       "\n",
       "    .dataframe thead th {\n",
       "        text-align: right;\n",
       "    }\n",
       "</style>\n",
       "<table border=\"1\" class=\"dataframe\">\n",
       "  <thead>\n",
       "    <tr style=\"text-align: right;\">\n",
       "      <th></th>\n",
       "      <th>shanghai_world_rank</th>\n",
       "      <th>university_name</th>\n",
       "      <th>cwur_world_rank</th>\n",
       "    </tr>\n",
       "  </thead>\n",
       "  <tbody>\n",
       "    <tr>\n",
       "      <th>0</th>\n",
       "      <td>1</td>\n",
       "      <td>Harvard University</td>\n",
       "      <td>1</td>\n",
       "    </tr>\n",
       "    <tr>\n",
       "      <th>1</th>\n",
       "      <td>2</td>\n",
       "      <td>Stanford University</td>\n",
       "      <td>2</td>\n",
       "    </tr>\n",
       "    <tr>\n",
       "      <th>2</th>\n",
       "      <td>3</td>\n",
       "      <td>University of California, Berkeley</td>\n",
       "      <td>7</td>\n",
       "    </tr>\n",
       "    <tr>\n",
       "      <th>3</th>\n",
       "      <td>5</td>\n",
       "      <td>University of Cambridge</td>\n",
       "      <td>5</td>\n",
       "    </tr>\n",
       "    <tr>\n",
       "      <th>4</th>\n",
       "      <td>6</td>\n",
       "      <td>California Institute of Technology</td>\n",
       "      <td>11</td>\n",
       "    </tr>\n",
       "    <tr>\n",
       "      <th>5</th>\n",
       "      <td>7</td>\n",
       "      <td>Princeton University</td>\n",
       "      <td>8</td>\n",
       "    </tr>\n",
       "    <tr>\n",
       "      <th>6</th>\n",
       "      <td>8</td>\n",
       "      <td>Columbia University</td>\n",
       "      <td>6</td>\n",
       "    </tr>\n",
       "    <tr>\n",
       "      <th>7</th>\n",
       "      <td>9</td>\n",
       "      <td>University of Chicago</td>\n",
       "      <td>9</td>\n",
       "    </tr>\n",
       "    <tr>\n",
       "      <th>8</th>\n",
       "      <td>10</td>\n",
       "      <td>University of Oxford</td>\n",
       "      <td>3</td>\n",
       "    </tr>\n",
       "  </tbody>\n",
       "</table>\n",
       "</div>"
      ],
      "text/plain": [
       "   shanghai_world_rank                     university_name  cwur_world_rank\n",
       "0                    1                  Harvard University                1\n",
       "1                    2                 Stanford University                2\n",
       "2                    3  University of California, Berkeley                7\n",
       "3                    5             University of Cambridge                5\n",
       "4                    6  California Institute of Technology               11\n",
       "5                    7                Princeton University                8\n",
       "6                    8                 Columbia University                6\n",
       "7                    9               University of Chicago                9\n",
       "8                   10                University of Oxford                3"
      ]
     },
     "execution_count": 90,
     "metadata": {},
     "output_type": "execute_result"
    }
   ],
   "source": [
    "shanghai2013_top10 = shanghai[shanghai['year'] == 2013].head(10)\n",
    "\n",
    "tmp1 = shanghai2013_top10[[\"world_rank\",\"university_name\"]].rename(columns={\"world_rank\":\"shanghai_world_rank\"})\n",
    "tmp2 = cwur[cwur['year']==2013][[\"world_rank\",\"institution\"]].rename(columns={\"world_rank\":\"cwur_world_rank\",\n",
    "  \"institution\":\"university_name\"})\n",
    "\n",
    "tmp3 = pd.merge(tmp1,tmp2)\n",
    "tmp3"
   ]
  },
  {
   "cell_type": "code",
   "execution_count": 91,
   "metadata": {},
   "outputs": [
    {
     "data": {
      "text/plain": [
       "Ttest_relResult(statistic=0.09678678369916546, pvalue=0.925276515262485)"
      ]
     },
     "execution_count": 91,
     "metadata": {},
     "output_type": "execute_result"
    }
   ],
   "source": [
    "ttest_rel(tmp3.cwur_world_rank, tmp3.shanghai_world_rank)"
   ]
  },
  {
   "cell_type": "markdown",
   "metadata": {},
   "source": [
    "### Year 2014"
   ]
  },
  {
   "cell_type": "code",
   "execution_count": 92,
   "metadata": {},
   "outputs": [
    {
     "data": {
      "text/html": [
       "<div>\n",
       "<style scoped>\n",
       "    .dataframe tbody tr th:only-of-type {\n",
       "        vertical-align: middle;\n",
       "    }\n",
       "\n",
       "    .dataframe tbody tr th {\n",
       "        vertical-align: top;\n",
       "    }\n",
       "\n",
       "    .dataframe thead th {\n",
       "        text-align: right;\n",
       "    }\n",
       "</style>\n",
       "<table border=\"1\" class=\"dataframe\">\n",
       "  <thead>\n",
       "    <tr style=\"text-align: right;\">\n",
       "      <th></th>\n",
       "      <th>shanghai_world_rank</th>\n",
       "      <th>university_name</th>\n",
       "      <th>cwur_world_rank</th>\n",
       "    </tr>\n",
       "  </thead>\n",
       "  <tbody>\n",
       "    <tr>\n",
       "      <th>0</th>\n",
       "      <td>1</td>\n",
       "      <td>Harvard University</td>\n",
       "      <td>1</td>\n",
       "    </tr>\n",
       "    <tr>\n",
       "      <th>1</th>\n",
       "      <td>2</td>\n",
       "      <td>Stanford University</td>\n",
       "      <td>2</td>\n",
       "    </tr>\n",
       "    <tr>\n",
       "      <th>2</th>\n",
       "      <td>5</td>\n",
       "      <td>University of Cambridge</td>\n",
       "      <td>4</td>\n",
       "    </tr>\n",
       "    <tr>\n",
       "      <th>3</th>\n",
       "      <td>6</td>\n",
       "      <td>Princeton University</td>\n",
       "      <td>9</td>\n",
       "    </tr>\n",
       "    <tr>\n",
       "      <th>4</th>\n",
       "      <td>7</td>\n",
       "      <td>California Institute of Technology</td>\n",
       "      <td>12</td>\n",
       "    </tr>\n",
       "    <tr>\n",
       "      <th>5</th>\n",
       "      <td>8</td>\n",
       "      <td>Columbia University</td>\n",
       "      <td>6</td>\n",
       "    </tr>\n",
       "    <tr>\n",
       "      <th>6</th>\n",
       "      <td>9</td>\n",
       "      <td>University of Chicago</td>\n",
       "      <td>8</td>\n",
       "    </tr>\n",
       "    <tr>\n",
       "      <th>7</th>\n",
       "      <td>9</td>\n",
       "      <td>University of Oxford</td>\n",
       "      <td>5</td>\n",
       "    </tr>\n",
       "  </tbody>\n",
       "</table>\n",
       "</div>"
      ],
      "text/plain": [
       "   shanghai_world_rank                     university_name  cwur_world_rank\n",
       "0                    1                  Harvard University                1\n",
       "1                    2                 Stanford University                2\n",
       "2                    5             University of Cambridge                4\n",
       "3                    6                Princeton University                9\n",
       "4                    7  California Institute of Technology               12\n",
       "5                    8                 Columbia University                6\n",
       "6                    9               University of Chicago                8\n",
       "7                    9                University of Oxford                5"
      ]
     },
     "execution_count": 92,
     "metadata": {},
     "output_type": "execute_result"
    }
   ],
   "source": [
    "shanghai2014_top10 = shanghai[shanghai['year'] == 2014].head(10)\n",
    "\n",
    "tmp1 = shanghai2014_top10[[\"world_rank\",\"university_name\"]].rename(columns={\"world_rank\":\"shanghai_world_rank\"})\n",
    "tmp2 = cwur[cwur['year']==2014][[\"world_rank\",\"institution\"]].rename(columns={\"world_rank\":\"cwur_world_rank\",\n",
    "  \"institution\":\"university_name\"})\n",
    "\n",
    "tmp3 = pd.merge(tmp1,tmp2)\n",
    "tmp3"
   ]
  },
  {
   "cell_type": "code",
   "execution_count": 93,
   "metadata": {},
   "outputs": [
    {
     "data": {
      "text/plain": [
       "Ttest_relResult(statistic=0.0, pvalue=1.0)"
      ]
     },
     "execution_count": 93,
     "metadata": {},
     "output_type": "execute_result"
    }
   ],
   "source": [
    "ttest_rel(tmp3.cwur_world_rank, tmp3.shanghai_world_rank)"
   ]
  },
  {
   "cell_type": "markdown",
   "metadata": {},
   "source": [
    "### Year 2015"
   ]
  },
  {
   "cell_type": "code",
   "execution_count": 94,
   "metadata": {},
   "outputs": [
    {
     "data": {
      "text/html": [
       "<div>\n",
       "<style scoped>\n",
       "    .dataframe tbody tr th:only-of-type {\n",
       "        vertical-align: middle;\n",
       "    }\n",
       "\n",
       "    .dataframe tbody tr th {\n",
       "        vertical-align: top;\n",
       "    }\n",
       "\n",
       "    .dataframe thead th {\n",
       "        text-align: right;\n",
       "    }\n",
       "</style>\n",
       "<table border=\"1\" class=\"dataframe\">\n",
       "  <thead>\n",
       "    <tr style=\"text-align: right;\">\n",
       "      <th></th>\n",
       "      <th>shanghai_world_rank</th>\n",
       "      <th>university_name</th>\n",
       "      <th>cwur_world_rank</th>\n",
       "    </tr>\n",
       "  </thead>\n",
       "  <tbody>\n",
       "    <tr>\n",
       "      <th>0</th>\n",
       "      <td>1</td>\n",
       "      <td>Harvard University</td>\n",
       "      <td>1</td>\n",
       "    </tr>\n",
       "    <tr>\n",
       "      <th>1</th>\n",
       "      <td>2</td>\n",
       "      <td>Stanford University</td>\n",
       "      <td>2</td>\n",
       "    </tr>\n",
       "    <tr>\n",
       "      <th>2</th>\n",
       "      <td>4</td>\n",
       "      <td>University of California, Berkeley</td>\n",
       "      <td>7</td>\n",
       "    </tr>\n",
       "    <tr>\n",
       "      <th>3</th>\n",
       "      <td>5</td>\n",
       "      <td>University of Cambridge</td>\n",
       "      <td>4</td>\n",
       "    </tr>\n",
       "    <tr>\n",
       "      <th>4</th>\n",
       "      <td>6</td>\n",
       "      <td>Princeton University</td>\n",
       "      <td>9</td>\n",
       "    </tr>\n",
       "    <tr>\n",
       "      <th>5</th>\n",
       "      <td>7</td>\n",
       "      <td>California Institute of Technology</td>\n",
       "      <td>12</td>\n",
       "    </tr>\n",
       "    <tr>\n",
       "      <th>6</th>\n",
       "      <td>8</td>\n",
       "      <td>Columbia University</td>\n",
       "      <td>6</td>\n",
       "    </tr>\n",
       "    <tr>\n",
       "      <th>7</th>\n",
       "      <td>9</td>\n",
       "      <td>University of Chicago</td>\n",
       "      <td>8</td>\n",
       "    </tr>\n",
       "    <tr>\n",
       "      <th>8</th>\n",
       "      <td>10</td>\n",
       "      <td>University of Oxford</td>\n",
       "      <td>5</td>\n",
       "    </tr>\n",
       "  </tbody>\n",
       "</table>\n",
       "</div>"
      ],
      "text/plain": [
       "   shanghai_world_rank                     university_name  cwur_world_rank\n",
       "0                    1                  Harvard University                1\n",
       "1                    2                 Stanford University                2\n",
       "2                    4  University of California, Berkeley                7\n",
       "3                    5             University of Cambridge                4\n",
       "4                    6                Princeton University                9\n",
       "5                    7  California Institute of Technology               12\n",
       "6                    8                 Columbia University                6\n",
       "7                    9               University of Chicago                8\n",
       "8                   10                University of Oxford                5"
      ]
     },
     "execution_count": 94,
     "metadata": {},
     "output_type": "execute_result"
    }
   ],
   "source": [
    "shanghai2015_top10 = shanghai[shanghai['year'] == 2015].head(10)\n",
    "\n",
    "tmp1 = shanghai2015_top10[[\"world_rank\",\"university_name\"]].rename(columns={\"world_rank\":\"shanghai_world_rank\"})\n",
    "tmp2 = cwur[cwur['year']==2015][[\"world_rank\",\"institution\"]].rename(columns={\"world_rank\":\"cwur_world_rank\",\n",
    "  \"institution\":\"university_name\"})\n",
    "\n",
    "tmp3 = pd.merge(tmp1,tmp2)\n",
    "tmp3"
   ]
  },
  {
   "cell_type": "code",
   "execution_count": 95,
   "metadata": {},
   "outputs": [
    {
     "data": {
      "text/plain": [
       "Ttest_relResult(statistic=0.2198598839717251, pvalue=0.8314867146342761)"
      ]
     },
     "execution_count": 95,
     "metadata": {},
     "output_type": "execute_result"
    }
   ],
   "source": [
    "ttest_rel(tmp3.cwur_world_rank, tmp3.shanghai_world_rank)"
   ]
  },
  {
   "cell_type": "markdown",
   "metadata": {},
   "source": [
    "# result\n",
    "\n",
    "+ paired t-test 결과 상위 10위까지는 크게 순위가 다르지 않음을 알 수 있다.\n",
    "+ 추가로 전체 겹치는 대학들 순위의 차이를 보는것도 좋을 것같음\n",
    "+ 년도별로 말고 대학별로 순위를 평균내서 비교 해보는 것도 좋을 것 같음"
   ]
  }
 ],
 "metadata": {
  "kernelspec": {
   "display_name": "Python 3",
   "language": "python",
   "name": "python3"
  },
  "language_info": {
   "codemirror_mode": {
    "name": "ipython",
    "version": 3
   },
   "file_extension": ".py",
   "mimetype": "text/x-python",
   "name": "python",
   "nbconvert_exporter": "python",
   "pygments_lexer": "ipython3",
   "version": "3.8.3"
  }
 },
 "nbformat": 4,
 "nbformat_minor": 4
}
